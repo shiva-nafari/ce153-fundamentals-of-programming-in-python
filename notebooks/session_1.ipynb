{
  "cells": [
    {
      "cell_type": "markdown",
      "metadata": {
        "id": "view-in-github",
        "colab_type": "text"
      },
      "source": [
        "<a href=\"https://colab.research.google.com/github/shiva-nafari/ce153-fundamentals-of-programming-in-python/blob/main/notebooks/session_1.ipynb\" target=\"_parent\"><img src=\"https://colab.research.google.com/assets/colab-badge.svg\" alt=\"Open In Colab\"/></a>"
      ]
    },
    {
      "cell_type": "markdown",
      "source": [
        "# Fundamentals of Programming in Python\n",
        "## Session 1"
      ],
      "metadata": {
        "id": "AJOMxEbOPUyg"
      }
    },
    {
      "cell_type": "markdown",
      "source": [
        "##**print()**\n",
        "The print() function displays the specified message on the screen or another standard output device.\n",
        "\n",
        "The message can be a string or any other object. If the object is not a string, it will be converted into a string before being displayed."
      ],
      "metadata": {
        "id": "eTMjTrQ7PcnQ"
      }
    },
    {
      "cell_type": "code",
      "execution_count": null,
      "metadata": {
        "colab": {
          "base_uri": "https://localhost:8080/"
        },
        "id": "zogEjfFg9bE6",
        "outputId": "28bf05eb-4393-45ee-f338-71ab45a7cd7b"
      },
      "outputs": [
        {
          "output_type": "stream",
          "name": "stdout",
          "text": [
            "Hello Sara\n",
            "Hello Maria\n"
          ]
        }
      ],
      "source": [
        "print('Hello Sara')\n",
        "print('Hello Maria')"
      ]
    },
    {
      "cell_type": "markdown",
      "source": [
        "##**String Concatenation**\n",
        "Concatenation refers to combining two or more strings to form a new string. In Python, there are multiple ways to concatenate strings. The resulting string is referred to as a string object.\n",
        "\n",
        "###Method 1: Using the + Operator\n",
        "To merge two strings into a single object, you can use the + operator. This method is simple and commonly used. However, it does not add any space between the concatenated strings.\n",
        "\n",
        "###Method 2: Using a Comma (,) in print()\n",
        "When using a comma to concatenate strings within the print() function, a space is automatically added between them.\n",
        "\n",
        "###Method 3: Using join()\n",
        "The join() method concatenates a sequence of strings with a specified separator.\n",
        "\n",
        "\n",
        "\n",
        "\n",
        "\n"
      ],
      "metadata": {
        "id": "MnfQUHXL_HR5"
      }
    },
    {
      "cell_type": "code",
      "execution_count": null,
      "metadata": {
        "id": "0rPjNR1e9bE9",
        "outputId": "5efb4a94-d0f9-4d99-fafa-3f5d32b020fb"
      },
      "outputs": [
        {
          "name": "stdout",
          "output_type": "stream",
          "text": [
            "salam sara\n",
            "salam  sara\n"
          ]
        }
      ],
      "source": [
        "#concat\n",
        "print('salam' + ' ' + 'sara')\n",
        "print('salam ','sara')"
      ]
    },
    {
      "cell_type": "code",
      "source": [
        "strings = ['salam', 'sara']\n",
        "result = \" \".join(strings)\n",
        "print(result)\n"
      ],
      "metadata": {
        "colab": {
          "base_uri": "https://localhost:8080/"
        },
        "id": "IWjyTZjpBqAw",
        "outputId": "7339cab7-32e9-4e21-8f9a-236c1a5daeb2"
      },
      "execution_count": null,
      "outputs": [
        {
          "output_type": "stream",
          "name": "stdout",
          "text": [
            "salam sara\n"
          ]
        }
      ]
    },
    {
      "cell_type": "markdown",
      "source": [
        "###Method 4: Using f-strings (Python 3.6+)\n",
        "Formatted string literals (f-strings) allow you to concatenate strings with variables in a more readable way."
      ],
      "metadata": {
        "id": "9BoAnaLGCKJR"
      }
    },
    {
      "cell_type": "code",
      "source": [
        "name = 'sahar'\n",
        "age = 25\n",
        "result = f\"My name is {name} and I am {age} years old.\"\n",
        "print(result)"
      ],
      "metadata": {
        "colab": {
          "base_uri": "https://localhost:8080/"
        },
        "id": "jKAmKjCTCP26",
        "outputId": "0933f107-bc72-46ec-c954-ece5994e5450"
      },
      "execution_count": null,
      "outputs": [
        {
          "output_type": "stream",
          "name": "stdout",
          "text": [
            "My name is sahar and I am 25 years old.\n"
          ]
        }
      ]
    },
    {
      "cell_type": "markdown",
      "source": [
        "###method 5: Using format()\n",
        "The format() method allows inserting values into a string."
      ],
      "metadata": {
        "id": "k6Csp6mnENrS"
      }
    },
    {
      "cell_type": "code",
      "source": [
        "name = \"sara\"\n",
        "city = \"Toronto\"\n",
        "result = \"My name is {} and I live in {}.\".format(name, city)\n",
        "print(result)\n",
        "\n"
      ],
      "metadata": {
        "colab": {
          "base_uri": "https://localhost:8080/"
        },
        "id": "LjnWCHQhEkTg",
        "outputId": "51e38067-3334-40ec-d3f3-8fdf47889e0f"
      },
      "execution_count": null,
      "outputs": [
        {
          "output_type": "stream",
          "name": "stdout",
          "text": [
            "My name is sara and I live in Toronto.\n"
          ]
        }
      ]
    },
    {
      "cell_type": "markdown",
      "source": [
        "Arithmetic operators in Python are used to perform mathematical operations between numbers (integers or floating-point)"
      ],
      "metadata": {
        "id": "KUA75pJBHUbe"
      }
    },
    {
      "cell_type": "code",
      "execution_count": null,
      "metadata": {
        "id": "wAKMmLgr9bE9",
        "outputId": "ab9cdc2b-f21d-4cea-e943-077f5e7d0096"
      },
      "outputs": [
        {
          "name": "stdout",
          "output_type": "stream",
          "text": [
            "7\n"
          ]
        }
      ],
      "source": [
        "#Arithmetic Operators\n",
        "x = 3\n",
        "y = 4\n",
        "print(x + y)"
      ]
    },
    {
      "cell_type": "code",
      "execution_count": null,
      "metadata": {
        "id": "w5aOOamD9bE-",
        "outputId": "82a814e1-6385-4ec9-bc9d-4a654f726f31"
      },
      "outputs": [
        {
          "name": "stdout",
          "output_type": "stream",
          "text": [
            "-1\n"
          ]
        }
      ],
      "source": [
        "print(x - y)"
      ]
    },
    {
      "cell_type": "code",
      "execution_count": null,
      "metadata": {
        "id": "L46YqMV19bE-",
        "outputId": "5d160a39-0692-455a-d7c8-6a2e402bc30f"
      },
      "outputs": [
        {
          "name": "stdout",
          "output_type": "stream",
          "text": [
            "12\n"
          ]
        }
      ],
      "source": [
        "print(x * y)"
      ]
    },
    {
      "cell_type": "code",
      "execution_count": null,
      "metadata": {
        "id": "A0_i6qCJ9bE-",
        "outputId": "f512a0be-0c08-4ab0-c280-7126e351fdf6"
      },
      "outputs": [
        {
          "name": "stdout",
          "output_type": "stream",
          "text": [
            "9\n"
          ]
        }
      ],
      "source": [
        "print(x ** 2)"
      ]
    },
    {
      "cell_type": "code",
      "execution_count": null,
      "metadata": {
        "id": "zcy99Yge9bE_",
        "outputId": "88929d2d-799a-472c-ea35-e803578adb2b"
      },
      "outputs": [
        {
          "name": "stdout",
          "output_type": "stream",
          "text": [
            "2.0\n"
          ]
        }
      ],
      "source": [
        "print(y ** 1/2)"
      ]
    },
    {
      "cell_type": "code",
      "execution_count": null,
      "metadata": {
        "id": "XZSATkV29bE_",
        "outputId": "930e5d10-adce-43ff-c06a-e690f92deac8"
      },
      "outputs": [
        {
          "name": "stdout",
          "output_type": "stream",
          "text": [
            "0.75\n"
          ]
        }
      ],
      "source": [
        "print(3 / 4)"
      ]
    },
    {
      "cell_type": "code",
      "execution_count": null,
      "metadata": {
        "id": "zI1D3_bi9bE_",
        "outputId": "8167c08d-edd4-469e-ec24-2515991e6eeb"
      },
      "outputs": [
        {
          "name": "stdout",
          "output_type": "stream",
          "text": [
            "0\n"
          ]
        }
      ],
      "source": [
        "print(3 // 4)"
      ]
    },
    {
      "cell_type": "code",
      "execution_count": null,
      "metadata": {
        "id": "H3e5WiSZ9bE_",
        "outputId": "bb46115c-31a7-4856-8198-d85087427b8b"
      },
      "outputs": [
        {
          "name": "stdout",
          "output_type": "stream",
          "text": [
            "3\n"
          ]
        }
      ],
      "source": [
        "print(3 % 4)"
      ]
    },
    {
      "cell_type": "code",
      "execution_count": null,
      "metadata": {
        "id": "wPdoalY-9bFA",
        "outputId": "e9288faa-6cbe-45ca-ef06-d9d8855f2e84"
      },
      "outputs": [
        {
          "name": "stdout",
          "output_type": "stream",
          "text": [
            "1212\n"
          ]
        }
      ],
      "source": [
        "num = '12'\n",
        "print(num + num)"
      ]
    },
    {
      "cell_type": "code",
      "execution_count": null,
      "metadata": {
        "id": "bkWioogS9bFA",
        "outputId": "00cbcc4c-6542-4861-be72-814aa2884331"
      },
      "outputs": [
        {
          "name": "stdout",
          "output_type": "stream",
          "text": [
            "121212\n"
          ]
        }
      ],
      "source": [
        "print(num * 3)"
      ]
    },
    {
      "cell_type": "code",
      "execution_count": null,
      "metadata": {
        "id": "LKcmw9Vz9bFA",
        "outputId": "1f385be1-a7a9-444f-fc4f-85fd858cc636"
      },
      "outputs": [
        {
          "ename": "TypeError",
          "evalue": "can't multiply sequence by non-int of type 'str'",
          "output_type": "error",
          "traceback": [
            "\u001b[0;31m---------------------------------------------------------------------------\u001b[0m",
            "\u001b[0;31mTypeError\u001b[0m                                 Traceback (most recent call last)",
            "Cell \u001b[0;32mIn[16], line 2\u001b[0m\n\u001b[1;32m      1\u001b[0m num2 \u001b[38;5;241m=\u001b[39m \u001b[38;5;124m'\u001b[39m\u001b[38;5;124m3\u001b[39m\u001b[38;5;124m'\u001b[39m\n\u001b[0;32m----> 2\u001b[0m \u001b[38;5;28mprint\u001b[39m(\u001b[43mnum\u001b[49m\u001b[43m \u001b[49m\u001b[38;5;241;43m*\u001b[39;49m\u001b[43m \u001b[49m\u001b[43mnum2\u001b[49m)\n",
            "\u001b[0;31mTypeError\u001b[0m: can't multiply sequence by non-int of type 'str'"
          ]
        }
      ],
      "source": [
        "num2 = '3'\n",
        "print(num * num2)"
      ]
    },
    {
      "cell_type": "code",
      "execution_count": null,
      "metadata": {
        "id": "5cWkJsJz9bFA",
        "outputId": "283a37b3-3e69-43c4-c63f-559187e84761"
      },
      "outputs": [
        {
          "name": "stdout",
          "output_type": "stream",
          "text": [
            "13\n"
          ]
        }
      ],
      "source": [
        "z = 2 ** 3 + 5\n",
        "print(z)\n"
      ]
    },
    {
      "cell_type": "markdown",
      "source": [
        "###String Slicing in Python\n",
        "String slicing allows you to extract specific portions of a string by using index positions. This technique is useful when you need to access substrings efficiently.\n",
        "\n"
      ],
      "metadata": {
        "id": "Os3sysGjGJcj"
      }
    },
    {
      "cell_type": "code",
      "execution_count": null,
      "metadata": {
        "id": "Osposni19bFA",
        "outputId": "966f9235-9da9-4afd-f98e-5e98cf742265"
      },
      "outputs": [
        {
          "name": "stdout",
          "output_type": "stream",
          "text": [
            "<class 'str'>\n"
          ]
        }
      ],
      "source": [
        "#string indexing\n",
        "flavor = 'apple pie'\n",
        "print(type(flavor))"
      ]
    },
    {
      "cell_type": "markdown",
      "source": [
        "###len() Function in Python (String Length)\n",
        "The len() function in Python is used to determine the number of characters in a string, including spaces, punctuation, and special characters. It returns an integer representing the string’s length.\n",
        "\n"
      ],
      "metadata": {
        "id": "l6Hq3dA0GP2F"
      }
    },
    {
      "cell_type": "code",
      "execution_count": null,
      "metadata": {
        "id": "AGvdUCTp9bFA",
        "outputId": "a946871a-6d1b-4d89-88b9-852d85e3a724"
      },
      "outputs": [
        {
          "name": "stdout",
          "output_type": "stream",
          "text": [
            "9\n"
          ]
        }
      ],
      "source": [
        "print(len(flavor))"
      ]
    },
    {
      "cell_type": "code",
      "execution_count": null,
      "metadata": {
        "id": "xUnpB_Cm9bFA",
        "outputId": "30590582-bd15-46d6-d16f-2e8d687e0d17"
      },
      "outputs": [
        {
          "name": "stdout",
          "output_type": "stream",
          "text": [
            "e\n"
          ]
        }
      ],
      "source": [
        "print(flavor[4])"
      ]
    },
    {
      "cell_type": "code",
      "execution_count": null,
      "metadata": {
        "id": "7A5AT56n9bFB",
        "outputId": "b308afd5-1af4-43ce-8159-d1a87c17866b"
      },
      "outputs": [
        {
          "data": {
            "text/plain": [
              "'pple '"
            ]
          },
          "execution_count": 7,
          "metadata": {},
          "output_type": "execute_result"
        }
      ],
      "source": [
        "flavor[1:6]"
      ]
    },
    {
      "cell_type": "code",
      "execution_count": null,
      "metadata": {
        "id": "m7RtrWv79bFB",
        "outputId": "b1b76b70-19e0-46a0-dd34-a87aaecd8d53"
      },
      "outputs": [
        {
          "data": {
            "text/plain": [
              "'apple '"
            ]
          },
          "execution_count": 8,
          "metadata": {},
          "output_type": "execute_result"
        }
      ],
      "source": [
        "flavor[:6]"
      ]
    },
    {
      "cell_type": "code",
      "execution_count": null,
      "metadata": {
        "id": "-0oEukuN9bFB",
        "outputId": "731138b6-570c-4903-9e0b-8de6ce3731e1"
      },
      "outputs": [
        {
          "data": {
            "text/plain": [
              "'pple pie'"
            ]
          },
          "execution_count": 9,
          "metadata": {},
          "output_type": "execute_result"
        }
      ],
      "source": [
        "flavor[1:]"
      ]
    },
    {
      "cell_type": "code",
      "execution_count": null,
      "metadata": {
        "id": "ZTcIdJLr9bFB",
        "outputId": "b3d3fd57-9b73-4a8a-cdcf-9f77a720e393"
      },
      "outputs": [
        {
          "data": {
            "text/plain": [
              "'apple pie'"
            ]
          },
          "execution_count": 10,
          "metadata": {},
          "output_type": "execute_result"
        }
      ],
      "source": [
        "flavor[:]"
      ]
    },
    {
      "cell_type": "code",
      "execution_count": null,
      "metadata": {
        "id": "Tn0TniM19bFB",
        "outputId": "11eb0a04-1885-46c7-d914-d3da2e930cbe"
      },
      "outputs": [
        {
          "data": {
            "text/plain": [
              "'app'"
            ]
          },
          "execution_count": 11,
          "metadata": {},
          "output_type": "execute_result"
        }
      ],
      "source": [
        "flavor[-9:-6]"
      ]
    },
    {
      "cell_type": "code",
      "execution_count": null,
      "metadata": {
        "id": "PRRTSe959bFB",
        "outputId": "437b551b-1714-4505-8c1b-a068f447e415"
      },
      "outputs": [
        {
          "data": {
            "text/plain": [
              "'pl i'"
            ]
          },
          "execution_count": 12,
          "metadata": {},
          "output_type": "execute_result"
        }
      ],
      "source": [
        "flavor[1:8:2]"
      ]
    },
    {
      "cell_type": "code",
      "execution_count": null,
      "metadata": {
        "id": "-x4v1af99bFB",
        "outputId": "29a8eaa0-56be-45c8-b5c1-f57097042bd5"
      },
      "outputs": [
        {
          "data": {
            "text/plain": [
              "'pe'"
            ]
          },
          "execution_count": 16,
          "metadata": {},
          "output_type": "execute_result"
        }
      ],
      "source": [
        "flavor[-3:-7:-2]"
      ]
    },
    {
      "cell_type": "code",
      "execution_count": null,
      "metadata": {
        "id": "F400V5nD9bFB",
        "outputId": "0924d631-d70a-4d12-ec6c-280b4586231c"
      },
      "outputs": [
        {
          "data": {
            "text/plain": [
              "''"
            ]
          },
          "execution_count": 14,
          "metadata": {},
          "output_type": "execute_result"
        }
      ],
      "source": [
        "flavor[-3:-8]"
      ]
    },
    {
      "cell_type": "code",
      "execution_count": null,
      "metadata": {
        "id": "8UqsMEhg9bFB",
        "outputId": "c8ac1dea-83e5-4649-c6a5-66ccf01585d1"
      },
      "outputs": [
        {
          "data": {
            "text/plain": [
              "'pl '"
            ]
          },
          "execution_count": 15,
          "metadata": {},
          "output_type": "execute_result"
        }
      ],
      "source": [
        "flavor[-8:-3:2]\n"
      ]
    },
    {
      "cell_type": "code",
      "execution_count": null,
      "metadata": {
        "id": "pBcC-8gI9bFB",
        "outputId": "b3287ed3-188e-4ad4-ecbb-213dfaf17e23"
      },
      "outputs": [
        {
          "data": {
            "text/plain": [
              "'ip el'"
            ]
          },
          "execution_count": 19,
          "metadata": {},
          "output_type": "execute_result"
        }
      ],
      "source": [
        "flavor[7:2:-1]"
      ]
    },
    {
      "cell_type": "code",
      "execution_count": null,
      "metadata": {
        "id": "dWVup3L99bFC",
        "outputId": "c7d13b83-e70b-4400-da71-5df03fa20016"
      },
      "outputs": [
        {
          "name": "stdout",
          "output_type": "stream",
          "text": [
            "e le p\n"
          ]
        }
      ],
      "source": [
        "print(flavor[-1], flavor[-6:-2])"
      ]
    },
    {
      "cell_type": "code",
      "execution_count": null,
      "metadata": {
        "id": "mYVN4DKN9bFC",
        "outputId": "98bbe46d-e3cb-45c3-dec4-08e5407e6b8f"
      },
      "outputs": [
        {
          "data": {
            "text/plain": [
              "'apple pie'"
            ]
          },
          "execution_count": 21,
          "metadata": {},
          "output_type": "execute_result"
        }
      ],
      "source": [
        "flavor[0:9]"
      ]
    },
    {
      "cell_type": "code",
      "execution_count": null,
      "metadata": {
        "id": "np511Q7L9bFC",
        "outputId": "7be0b310-588e-40ad-d3d9-b0884cd0e9e2"
      },
      "outputs": [
        {
          "data": {
            "text/plain": [
              "'apple pie'"
            ]
          },
          "execution_count": 22,
          "metadata": {},
          "output_type": "execute_result"
        }
      ],
      "source": [
        "flavor[0:10]"
      ]
    },
    {
      "cell_type": "markdown",
      "source": [
        "###The IndexError:\n",
        " string index out of range typically occurs when you try to access an index that doesn't exist in the string. This usually happens when:\n",
        "\n",
        "You're trying to access an index in a string that's larger than the string's length.\n",
        "\n",
        "You're trying to access a negative index that exceeds the bounds of the string.\n"
      ],
      "metadata": {
        "id": "TTh8hWppGzft"
      }
    },
    {
      "cell_type": "code",
      "execution_count": null,
      "metadata": {
        "id": "jQonXdpS9bFC",
        "outputId": "35455680-5edf-48b3-fa26-3d0c2272d223"
      },
      "outputs": [
        {
          "ename": "IndexError",
          "evalue": "string index out of range",
          "output_type": "error",
          "traceback": [
            "\u001b[0;31m---------------------------------------------------------------------------\u001b[0m",
            "\u001b[0;31mIndexError\u001b[0m                                Traceback (most recent call last)",
            "Cell \u001b[0;32mIn[23], line 1\u001b[0m\n\u001b[0;32m----> 1\u001b[0m \u001b[43mflavor\u001b[49m\u001b[43m[\u001b[49m\u001b[38;5;241;43m10\u001b[39;49m\u001b[43m]\u001b[49m\n",
            "\u001b[0;31mIndexError\u001b[0m: string index out of range"
          ]
        }
      ],
      "source": [
        "flavor[10]"
      ]
    }
  ],
  "metadata": {
    "kernelspec": {
      "display_name": "Python 3 (ipykernel)",
      "language": "python",
      "name": "python3"
    },
    "language_info": {
      "codemirror_mode": {
        "name": "ipython",
        "version": 3
      },
      "file_extension": ".py",
      "mimetype": "text/x-python",
      "name": "python",
      "nbconvert_exporter": "python",
      "pygments_lexer": "ipython3",
      "version": "3.11.0"
    },
    "colab": {
      "provenance": [],
      "include_colab_link": true
    }
  },
  "nbformat": 4,
  "nbformat_minor": 0
}