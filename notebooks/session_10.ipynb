{
  "cells": [
    {
      "cell_type": "markdown",
      "metadata": {
        "id": "view-in-github",
        "colab_type": "text"
      },
      "source": [
        "<a href=\"https://colab.research.google.com/github/shiva-nafari/ce153-fundamentals-of-programming-in-python/blob/main/notebooks/session_10.ipynb\" target=\"_parent\"><img src=\"https://colab.research.google.com/assets/colab-badge.svg\" alt=\"Open In Colab\"/></a>"
      ]
    },
    {
      "cell_type": "markdown",
      "source": [
        "##Fundamentals of Programming in Python\n",
        "##Session 10"
      ],
      "metadata": {
        "id": "wZJY412ujWEB"
      }
    },
    {
      "cell_type": "markdown",
      "source": [
        "### Local and Global Variables in Functions\n",
        "\n",
        "In Python, variables can be defined in different scopes, which determines where they can be accessed. The two main types are **local variables** and **global variables**.\n",
        "\n",
        "\n",
        "\n",
        "##### **Local Variables**\n",
        "- **Definition:** Variables defined inside a function.\n",
        "- **Scope:** Accessible only within the function in which they are created.\n",
        "- **Lifetime:** Created when the function is called and destroyed when the function exits.\n"
      ],
      "metadata": {
        "id": "AwS8J4BKiY00"
      }
    },
    {
      "cell_type": "code",
      "execution_count": null,
      "metadata": {
        "id": "54Z5J_oJh8JG",
        "outputId": "b8aa4f18-58ab-49b2-afac-9f2d5813e698"
      },
      "outputs": [
        {
          "ename": "NameError",
          "evalue": "name 'word' is not defined",
          "output_type": "error",
          "traceback": [
            "\u001b[0;31m---------------------------------------------------------------------------\u001b[0m",
            "\u001b[0;31mNameError\u001b[0m                                 Traceback (most recent call last)",
            "Cell \u001b[0;32mIn[1], line 3\u001b[0m\n\u001b[1;32m      1\u001b[0m \u001b[38;5;28;01mdef\u001b[39;00m \u001b[38;5;21msome_function\u001b[39m():\n\u001b[1;32m      2\u001b[0m     word \u001b[38;5;241m=\u001b[39m \u001b[38;5;124m'\u001b[39m\u001b[38;5;124msallam\u001b[39m\u001b[38;5;124m'\u001b[39m \u001b[38;5;66;03m#local variable\u001b[39;00m\n\u001b[0;32m----> 3\u001b[0m \u001b[38;5;28mprint\u001b[39m(\u001b[43mword\u001b[49m)\n",
            "\u001b[0;31mNameError\u001b[0m: name 'word' is not defined"
          ]
        }
      ],
      "source": [
        "def some_function():\n",
        "    word = 'sallam' #local variable\n",
        "print(word)\n"
      ]
    },
    {
      "cell_type": "markdown",
      "source": [
        "##### **Local Variable Scope:**\n",
        "\n",
        "In the code above, `local_var` is defined within the function `my_function()`. Its scope is limited to that function, meaning it only exists during the execution of `my_function()`.\n",
        "\n",
        "#### **Accessing Outside the Function:**\n",
        "\n",
        "After the function is executed, attempting to access `local_var` outside of `my_function()` results in a `NameError` because `local_var` is not available in the global scope.\n",
        "\n",
        "#### **Solution:**\n",
        "\n",
        "To avoid this error, ensure that you only reference variables within the scope where they are defined, or define the variable at the global level if it needs to be accessed outside of a function.\n"
      ],
      "metadata": {
        "id": "t_ezBX1FjCq2"
      }
    },
    {
      "cell_type": "markdown",
      "source": [
        "##### **Global Variables**\n",
        "\n",
        "A **global variable** is a variable that is defined outside of any function, making it accessible throughout the entire program. It can be accessed and modified from any function or block of code in the same file.\n",
        "\n",
        "###### Characteristics of Global Variables:\n",
        "- **Scope:** Global variables are accessible from anywhere in the program, both inside and outside functions.\n",
        "- **Lifetime:** They exist as long as the program runs.\n",
        "- **Modification:** To modify a global variable inside a function, you must use the `global` keyword.\n",
        "\n",
        "##### Example:\n",
        "```python\n",
        "global_var = 100  # This is a global variable\n",
        "\n",
        "def display_global():\n",
        "    print(global_var)  # Accessing the global variable inside a function\n",
        "\n",
        "display_global()  # Output: 100\n"
      ],
      "metadata": {
        "id": "P-gKO3__kE4c"
      }
    },
    {
      "cell_type": "code",
      "execution_count": null,
      "metadata": {
        "id": "OjdRKBThh8JI",
        "outputId": "3da07353-3346-4585-a99f-9baf4e83d19a"
      },
      "outputs": [
        {
          "name": "stdout",
          "output_type": "stream",
          "text": [
            "Sallam Hamkelasi\n",
            "sallam hamkelasi\n"
          ]
        }
      ],
      "source": [
        "word = 'sallam hamkelasi' #global variable\n",
        "def some_function():\n",
        "    print(word.title())\n",
        "\n",
        "some_function()\n",
        "print(word)"
      ]
    },
    {
      "cell_type": "code",
      "execution_count": null,
      "metadata": {
        "id": "G3LKX6feh8JI",
        "outputId": "a59f0b26-a4fe-4e9c-a358-050d625dda71"
      },
      "outputs": [
        {
          "name": "stdout",
          "output_type": "stream",
          "text": [
            "1982\n",
            "2017\n"
          ]
        }
      ],
      "source": [
        "def date():\n",
        "    date_one = 1982\n",
        "    return(date_one)\n",
        "date_one = 2017\n",
        "print(date())\n",
        "print(date_one)"
      ]
    },
    {
      "cell_type": "code",
      "execution_count": null,
      "metadata": {
        "id": "miZlS9R8h8JI",
        "outputId": "00e12469-561c-40b8-b965-a5c4afa6c0f5"
      },
      "outputs": [
        {
          "name": "stdout",
          "output_type": "stream",
          "text": [
            "9\n",
            "16\n"
          ]
        }
      ],
      "source": [
        "def rate_current(y):\n",
        "    print(rating)\n",
        "    return(rating + y)\n",
        "rating = 9\n",
        "z = rate_current(7)\n",
        "print(z)\n"
      ]
    },
    {
      "cell_type": "code",
      "execution_count": null,
      "metadata": {
        "id": "GD_LYxTWh8JJ",
        "outputId": "9b5a81fb-b09d-4459-91cb-26c3639800c0"
      },
      "outputs": [
        {
          "name": "stdout",
          "output_type": "stream",
          "text": [
            "Michael Jackson\n",
            "Jenifer Aniston\n"
          ]
        }
      ],
      "source": [
        "def artist_names(*names):\n",
        "    for name in names:\n",
        "        print(name)\n",
        "\n",
        "artist_names('Michael Jackson', 'Jenifer Aniston')"
      ]
    },
    {
      "cell_type": "code",
      "execution_count": null,
      "metadata": {
        "id": "UhSkAODwh8JJ",
        "outputId": "572c9f03-3e22-4c25-e4aa-1e3e64e501a0"
      },
      "outputs": [
        {
          "name": "stdout",
          "output_type": "stream",
          "text": [
            "Album 0 rating is 10.0\n",
            "Album 1 rating is 8.5\n",
            "Album 2 rating is 9.5\n"
          ]
        }
      ],
      "source": [
        "def print_stuff(stuff):\n",
        "    for i, s in enumerate(stuff):\n",
        "        print('Album',i,'rating is',s)\n",
        "album = [10.0, 8.5, 9.5]\n",
        "print_stuff(album)"
      ]
    },
    {
      "cell_type": "markdown",
      "source": [
        "#### Lambda Functions in Python\n",
        "\n",
        "A **lambda function** is a small, anonymous function defined using the `lambda` keyword. Lambda functions can have any number of arguments, but they can only have one expression. They are often used for short, throwaway functions that are passed as arguments to higher-order functions.\n",
        "\n"
      ],
      "metadata": {
        "id": "ubvih7A1lbs5"
      }
    },
    {
      "cell_type": "code",
      "execution_count": null,
      "metadata": {
        "id": "6bLiYiYJh8JJ",
        "outputId": "5c54118a-dff8-428c-b140-c5fd2db29e05"
      },
      "outputs": [
        {
          "data": {
            "text/plain": [
              "12"
            ]
          },
          "execution_count": 9,
          "metadata": {},
          "output_type": "execute_result"
        }
      ],
      "source": [
        "#lambda\n",
        "def double(x):\n",
        "    return x * 2\n",
        "double(6)\n",
        ""
      ]
    },
    {
      "cell_type": "code",
      "execution_count": null,
      "metadata": {
        "id": "jnzCn7vIh8JJ",
        "outputId": "f729f3fa-9fac-4b58-e6af-142b7b79600b"
      },
      "outputs": [
        {
          "data": {
            "text/plain": [
              "18"
            ]
          },
          "execution_count": 10,
          "metadata": {},
          "output_type": "execute_result"
        }
      ],
      "source": [
        "double = lambda x : x * 2\n",
        "double(9)"
      ]
    },
    {
      "cell_type": "code",
      "execution_count": null,
      "metadata": {
        "id": "OrhhJ8o-h8JK",
        "outputId": "d589817c-0174-4975-d60a-d70df22ab85b"
      },
      "outputs": [
        {
          "data": {
            "text/plain": [
              "20"
            ]
          },
          "execution_count": 10,
          "metadata": {},
          "output_type": "execute_result"
        }
      ],
      "source": [
        "def multiply(x,y):\n",
        "    return x * y\n",
        "multiply(4,5)\n",
        "multiply = lambda x, y : x * y\n"
      ]
    },
    {
      "cell_type": "code",
      "execution_count": null,
      "metadata": {
        "id": "koEgt9DVh8JK",
        "outputId": "91915dc7-28c3-445d-c1a3-4ed5790e524e"
      },
      "outputs": [
        {
          "data": {
            "text/plain": [
              "54"
            ]
          },
          "execution_count": 13,
          "metadata": {},
          "output_type": "execute_result"
        }
      ],
      "source": [
        "multiply = lambda x, y : x * y\n",
        "multiply(6,9)"
      ]
    },
    {
      "cell_type": "markdown",
      "source": [
        "### map() Function in Python\n",
        "\n",
        "The `map()` function in Python is used to apply a specified function to each item in an iterable (like a list, tuple, or string) and returns an iterator that produces the results. It is useful for transforming or processing elements of a collection in a functional programming style.\n",
        "\n",
        "##### Syntax:\n",
        "```python\n",
        "map(function, iterable, ...)\n"
      ],
      "metadata": {
        "id": "lWKMBOs2l0xe"
      }
    },
    {
      "cell_type": "markdown",
      "source": [
        "#### Parameters:\n",
        "- **function:** The function to apply to each item in the iterable.\n",
        "- **iterable:** The iterable whose elements the function will be applied to (e.g., list, tuple, etc.).\n",
        "- You can also pass multiple iterables to `map()` if the function takes multiple arguments.\n",
        "\n",
        "#### Characteristics:\n",
        "- **Transforms Data:** `map()` applies the given function to all items in the iterable.\n",
        "- **Returns an Iterator:** The result is a map object (an iterator), which can be converted to a list, tuple, or any other collection type.\n",
        "- **Efficient:** `map()` is memory-efficient because it processes items lazily (one at a time), unlike list comprehensions which generate all values at once.\n"
      ],
      "metadata": {
        "id": "LejW6ZCMl5eq"
      }
    },
    {
      "cell_type": "code",
      "execution_count": null,
      "metadata": {
        "id": "Junzxmvoh8JK",
        "outputId": "7c8dac35-ec5a-45a8-c90d-7de409d8ba2d"
      },
      "outputs": [
        {
          "name": "stdout",
          "output_type": "stream",
          "text": [
            "[18.5, 14.25, 16.5, 14.25]\n",
            "[18.5, 14.25, 16.5, 14.25]\n"
          ]
        }
      ],
      "source": [
        "#map\n",
        "numbers = [[20,19,18,17],\n",
        "           [12,14,13,18],\n",
        "           [20,19,10,17],\n",
        "           [12,16,19,10]]\n",
        "def mean(num_list):\n",
        "    return sum(num_list)/len(num_list)\n",
        "\n",
        "avg = list(map(mean,numbers))\n",
        "print(avg)\n",
        "avg2 = list(map(lambda x : sum(x) / len(x),numbers))\n",
        "print(avg2)"
      ]
    },
    {
      "cell_type": "markdown",
      "source": [
        "### filter() Function\n",
        "\n",
        "The `filter()` function in Python is used to filter elements from an iterable based on a given condition. It applies a function to each item in the iterable and returns an iterator containing only the elements that evaluate to `True`.\n",
        "\n",
        "### Syntax:\n",
        "```python\n",
        "filter(function, iterable)\n"
      ],
      "metadata": {
        "id": "H8THlvr8mbN2"
      }
    },
    {
      "cell_type": "markdown",
      "source": [
        "\n",
        "#### Parameters:\n",
        "- **function:** The function that tests whether an element in the iterable should be included. It should return either `True` or `False`.\n",
        "- **iterable:** The iterable whose elements will be tested by the function (e.g., list, tuple, etc.).\n",
        "\n",
        "#### Characteristics:\n",
        "- **Filters Data:** `filter()` applies the function to all items in the iterable and keeps only the elements for which the function returns `True`.\n",
        "- **Returns an Iterator:** The result is a filter object (an iterator), which can be converted to a list, tuple, or other collections.\n",
        "- **Efficient:** Like `map()`, `filter()` processes elements lazily, meaning it does not generate the filtered result all at once, saving memory.\n"
      ],
      "metadata": {
        "id": "ndOgrG0LmgCK"
      }
    },
    {
      "cell_type": "code",
      "execution_count": null,
      "metadata": {
        "id": "eOm7VQ7Kh8JK",
        "outputId": "6c84ea66-0c55-40c9-8db7-817dcfed2baa"
      },
      "outputs": [
        {
          "data": {
            "text/plain": [
              "('amol', 'ghom')"
            ]
          },
          "execution_count": 14,
          "metadata": {},
          "output_type": "execute_result"
        }
      ],
      "source": [
        "#filter\n",
        "cities = ['lahijan','gorgan','tabriz','kermanshah','amol','ghom' ]\n",
        "def is_short(name):\n",
        "    return len(name) < 6\n",
        "\n",
        "short_city = tuple(filter(is_short,cities))\n",
        "short_city"
      ]
    },
    {
      "cell_type": "code",
      "execution_count": null,
      "metadata": {
        "id": "qO1ISjyih8JK",
        "outputId": "1abbc399-0c72-43bb-a2fb-041f50147ab8"
      },
      "outputs": [
        {
          "name": "stdout",
          "output_type": "stream",
          "text": [
            "['amol', 'ghom']\n"
          ]
        }
      ],
      "source": [
        "sh_c = list(filter(lambda x : len(x) < 6, cities))\n",
        "print(sh_c)"
      ]
    },
    {
      "cell_type": "markdown",
      "source": [
        "#### Recursive Function\n",
        "\n",
        "A **recursive function** is a function that calls itself in order to solve smaller instances of the same problem. Recursive functions are commonly used for problems that can be broken down into smaller, similar subproblems, such as calculating factorials, solving mazes, and tree traversal.\n",
        "\n",
        "### Syntax:\n",
        "```python\n",
        "def recursive_function(parameters):\n",
        "    # base case: stop the recursion\n",
        "    if base_case_condition:\n",
        "        return base_case_value\n",
        "    # recursive case: call the function with updated parameters\n",
        "    else:\n",
        "        return recursive_function(updated_parameters)\n"
      ],
      "metadata": {
        "id": "kZGlLFfWm7HH"
      }
    },
    {
      "cell_type": "code",
      "execution_count": null,
      "metadata": {
        "id": "RBYQ5B-rh8JK",
        "outputId": "a4ec4739-09b7-4cc4-a3a5-e19828d77361"
      },
      "outputs": [
        {
          "name": "stdout",
          "output_type": "stream",
          "text": [
            "21\n"
          ]
        },
        {
          "data": {
            "text/plain": [
              "102334155"
            ]
          },
          "execution_count": 20,
          "metadata": {},
          "output_type": "execute_result"
        }
      ],
      "source": [
        "#recursive function\n",
        "#fibonacci sequence\n",
        "def fib(n):\n",
        "    #termination condition\n",
        "    if n == 0 or n == 1:\n",
        "        return n\n",
        "    else:\n",
        "        return fib(n-1) + fib(n-2)\n",
        "\n",
        "fib(5)\n",
        "fib(9)\n",
        "print(fib(8))\n",
        "fib(40)"
      ]
    },
    {
      "cell_type": "markdown",
      "source": [
        "##### Key Concepts of Recursive Functions\n",
        "\n",
        "###### **Base Case**\n",
        "Every recursive function must have a **base case**, which is the condition that stops the recursion. Without a base case, the function would call itself infinitely, causing a **stack overflow** error. The base case typically returns a value that is simple enough not to require further recursive calls.\n",
        "\n",
        "###### **Recursive Case**\n",
        "The **recursive case** is the part of the function where it calls itself, usually with modified parameters that move closer to the base case. This reduces the complexity of the problem until the base case condition is met.\n"
      ],
      "metadata": {
        "id": "2od1YbpKnHB2"
      }
    },
    {
      "cell_type": "code",
      "execution_count": null,
      "metadata": {
        "id": "6Qb58t-6h8JL",
        "outputId": "a18879d8-3d06-4a54-daf6-f596950b3c8b"
      },
      "outputs": [
        {
          "data": {
            "text/plain": [
              "22698374052006863956975682"
            ]
          },
          "execution_count": 23,
          "metadata": {},
          "output_type": "execute_result"
        }
      ],
      "source": [
        "#dynamic programming\n",
        "def fib(n):\n",
        "    l = [0,1]\n",
        "    for i in range(2 ,n+1):\n",
        "        l.append(l[i-1] + l[i-2])\n",
        "    return l[n]\n",
        "\n",
        "fib(40)\n",
        "fib(89)\n",
        "fib(123)"
      ]
    },
    {
      "cell_type": "code",
      "execution_count": null,
      "metadata": {
        "id": "i7vMDwXth8JL",
        "outputId": "615cce46-90cc-4e52-c285-c4ec07fcab48"
      },
      "outputs": [
        {
          "data": {
            "text/plain": [
              "102334155"
            ]
          },
          "execution_count": 26,
          "metadata": {},
          "output_type": "execute_result"
        }
      ],
      "source": [
        "def fib(n):\n",
        "    a = 0\n",
        "    b = 1\n",
        "    if n == 0:\n",
        "        return a\n",
        "    if n == 1:\n",
        "        return b\n",
        "    for i in range(2, n+1):\n",
        "        c = a + b\n",
        "        a = b\n",
        "        b = c\n",
        "    return c\n",
        "fib(40)"
      ]
    },
    {
      "cell_type": "code",
      "execution_count": null,
      "metadata": {
        "id": "B49gGCg0h8JL",
        "outputId": "b01b872c-a5fa-4270-ef56-00357daa3bf8"
      },
      "outputs": [
        {
          "data": {
            "text/plain": [
              "120"
            ]
          },
          "execution_count": 28,
          "metadata": {},
          "output_type": "execute_result"
        }
      ],
      "source": [
        "#D&C\n",
        "def fact(n):\n",
        "    #termination condition\n",
        "    if n == 1:\n",
        "        return 1\n",
        "    else:\n",
        "        return n * fact(n-1)\n",
        "fact(8)\n",
        "fact(5)"
      ]
    },
    {
      "cell_type": "code",
      "execution_count": null,
      "metadata": {
        "id": "jBB2uiK3h8JL",
        "outputId": "27b297ac-235e-43d4-9392-0012d7f06b80"
      },
      "outputs": [
        {
          "data": {
            "text/plain": [
              "6"
            ]
          },
          "execution_count": 31,
          "metadata": {},
          "output_type": "execute_result"
        }
      ],
      "source": [
        "def fact(n):\n",
        "    result = 1\n",
        "    for i in range(2, n+1):\n",
        "        result = result * i\n",
        "    return result\n",
        "fact(3)"
      ]
    }
  ],
  "metadata": {
    "kernelspec": {
      "display_name": "Python 3 (ipykernel)",
      "language": "python",
      "name": "python3"
    },
    "language_info": {
      "codemirror_mode": {
        "name": "ipython",
        "version": 3
      },
      "file_extension": ".py",
      "mimetype": "text/x-python",
      "name": "python",
      "nbconvert_exporter": "python",
      "pygments_lexer": "ipython3",
      "version": "3.11.0"
    },
    "colab": {
      "provenance": [],
      "include_colab_link": true
    }
  },
  "nbformat": 4,
  "nbformat_minor": 0
}