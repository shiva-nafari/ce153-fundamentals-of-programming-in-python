{
  "cells": [
    {
      "cell_type": "markdown",
      "metadata": {
        "id": "view-in-github",
        "colab_type": "text"
      },
      "source": [
        "<a href=\"https://colab.research.google.com/github/shiva-nafari/ce153-fundamentals-of-programming-in-python/blob/main/notebooks/session_3.ipynb\" target=\"_parent\"><img src=\"https://colab.research.google.com/assets/colab-badge.svg\" alt=\"Open In Colab\"/></a>"
      ]
    },
    {
      "cell_type": "markdown",
      "source": [
        "# Fundamentals of Programming in Python\n",
        "## Session 3\n"
      ],
      "metadata": {
        "id": "Ie0argHhngxe"
      }
    },
    {
      "cell_type": "markdown",
      "source": [
        "There’s a syntax error in your code due to the way the single and double quotes are mixed. In Python, string literals should be enclosed in either single (') or double (\") quotes, but you can't mix them like in your second string where you have an apostrophe inside and outside the string.\n",
        "\n"
      ],
      "metadata": {
        "id": "-7aUQY4ToBxB"
      }
    },
    {
      "cell_type": "code",
      "execution_count": null,
      "metadata": {
        "id": "1C6l0E0hnYlF",
        "outputId": "d75c48fb-fb39-4708-df54-a8f670d379e0"
      },
      "outputs": [
        {
          "ename": "SyntaxError",
          "evalue": "invalid syntax (2394526447.py, line 2)",
          "output_type": "error",
          "traceback": [
            "\u001b[0;36m  Cell \u001b[0;32mIn[1], line 2\u001b[0;36m\u001b[0m\n\u001b[0;31m    str_two = ' I said:'open the door.''\u001b[0m\n\u001b[0m                        ^\u001b[0m\n\u001b[0;31mSyntaxError\u001b[0m\u001b[0;31m:\u001b[0m invalid syntax\n"
          ]
        }
      ],
      "source": [
        "str_one = \"we're in the class.\"\n",
        "str_two = ' I said:'open the door.''\n",
        "print(str_two)"
      ]
    },
    {
      "cell_type": "markdown",
      "source": [
        "Here’s the corrected version of the code:"
      ],
      "metadata": {
        "id": "7VndQtJKnfes"
      }
    },
    {
      "cell_type": "code",
      "execution_count": null,
      "metadata": {
        "id": "lGE7WVXBnYlH"
      },
      "outputs": [],
      "source": [
        "str_two = 'I said, \\'open the door.\\''"
      ]
    },
    {
      "cell_type": "code",
      "execution_count": null,
      "metadata": {
        "id": "g7qCpiOVnYlI",
        "outputId": "391c9e4a-9b36-498c-dfa2-d5738282c5a3"
      },
      "outputs": [
        {
          "name": "stdout",
          "output_type": "stream",
          "text": [
            "I said, 'open the door.'\n"
          ]
        }
      ],
      "source": [
        "print(str_two)"
      ]
    },
    {
      "cell_type": "markdown",
      "source": [
        "The below block of code demonstrates how to work with variables and perform basic arithmetic operations in Python, while also formatting the output string using an f-string.\n",
        "\n"
      ],
      "metadata": {
        "id": "n8e76HfvolLE"
      }
    },
    {
      "cell_type": "code",
      "execution_count": null,
      "metadata": {
        "id": "HZz2roUCnYlI",
        "outputId": "88c2e44d-40db-4b66-fe43-2c15d4a8d0fc"
      },
      "outputs": [
        {
          "name": "stdout",
          "output_type": "stream",
          "text": [
            "3 times 5 is 15.\n"
          ]
        }
      ],
      "source": [
        "variable_one = 3\n",
        "variable_two = 5\n",
        "print(f'{variable_one} times {variable_two} is {variable_one * variable_two}.')"
      ]
    },
    {
      "cell_type": "markdown",
      "source": [
        "How to format a floating-point number using an f-string in Python:\n",
        "\n",
        "**Variable Assignment**:\n",
        "\n",
        "n = 15.6789: The variable n is assigned a floating-point value of 15.6789.\n",
        "\n",
        "**Formatted String Output**:\n",
        "\n",
        "print(f'the value of {n:.1f} .'):\n",
        "\n",
        "The f-string is used to insert the value of n inside the string.\n",
        "\n",
        "{n:.1f}: This specifies that n should be formatted to one decimal place.\n",
        "\n",
        ".1f → Means \"one digit after the decimal point\" (floating-point precision)."
      ],
      "metadata": {
        "id": "SsG_t4eDo5KK"
      }
    },
    {
      "cell_type": "code",
      "execution_count": null,
      "metadata": {
        "id": "DUEVV156nYlI",
        "outputId": "29d638d4-f81b-431e-a2b6-04b365ca655e"
      },
      "outputs": [
        {
          "name": "stdout",
          "output_type": "stream",
          "text": [
            "the value of 15.7 .\n"
          ]
        }
      ],
      "source": [
        "n = 15.6789\n",
        "print(f'the value of {n:.1f} .')"
      ]
    },
    {
      "cell_type": "code",
      "execution_count": null,
      "metadata": {
        "id": "nC-_a_SxnYlJ",
        "outputId": "47fcadbc-da20-4e79-857f-0434fe1bc112"
      },
      "outputs": [
        {
          "name": "stdout",
          "output_type": "stream",
          "text": [
            "the value of 15.68 .\n"
          ]
        }
      ],
      "source": [
        "print(f'the value of {n:.2f} .')\n"
      ]
    },
    {
      "cell_type": "markdown",
      "source": [
        "This code formats the integer m with a thousands separator using :,\n",
        "\n",
        " inside an f-string.\n",
        "The output will be:"
      ],
      "metadata": {
        "id": "WpjMsFkaph4n"
      }
    },
    {
      "cell_type": "code",
      "execution_count": null,
      "metadata": {
        "id": "i1DidUgMnYlJ",
        "outputId": "e4a8b4b6-2ce7-4253-8153-17d2ccf656fb"
      },
      "outputs": [
        {
          "name": "stdout",
          "output_type": "stream",
          "text": [
            "the value of 123,456,789\n"
          ]
        }
      ],
      "source": [
        "m = 123456789\n",
        "print(f'the value of {m:,}')"
      ]
    },
    {
      "cell_type": "markdown",
      "source": [
        "This code demonstrates the round() function in Python, which rounds a floating-point number to the nearest integer.\n",
        "\n",
        "Python follows \"bankers' rounding\", where .5 values round to the nearest even integer."
      ],
      "metadata": {
        "id": "7xwSOhhopzhH"
      }
    },
    {
      "cell_type": "code",
      "execution_count": null,
      "metadata": {
        "id": "tgNImMULnYlJ",
        "outputId": "2a46fa9a-3b68-49ac-fb39-e8a91378c398"
      },
      "outputs": [
        {
          "name": "stdout",
          "output_type": "stream",
          "text": [
            "2\n",
            "3\n",
            "4\n",
            "2\n"
          ]
        }
      ],
      "source": [
        "#math function\n",
        "print(round(2.3))\n",
        "print(round(2.7))\n",
        "print(round(3.5))\n",
        "print(round(2.5))"
      ]
    },
    {
      "cell_type": "markdown",
      "source": [
        "This code swaps the values of x and y without using a temporary variable.\n",
        "\n"
      ],
      "metadata": {
        "id": "eMD6kd5EqDAS"
      }
    },
    {
      "cell_type": "code",
      "execution_count": null,
      "metadata": {
        "id": "oMlpCHpMnYlJ",
        "outputId": "b51bdfd7-1086-4532-9e5b-be706ba5ad13"
      },
      "outputs": [
        {
          "name": "stdout",
          "output_type": "stream",
          "text": [
            "7\n",
            "3\n"
          ]
        }
      ],
      "source": [
        "x = 3\n",
        "y = 7\n",
        "x,y = y,x\n",
        "print(x,y,sep='\\n')"
      ]
    },
    {
      "cell_type": "code",
      "execution_count": null,
      "metadata": {
        "id": "YJVjojQsnYlK",
        "outputId": "722abd85-6bd7-430c-ce0f-b65a6835634d"
      },
      "outputs": [
        {
          "name": "stdout",
          "output_type": "stream",
          "text": [
            "7 6 3 2\n"
          ]
        }
      ],
      "source": [
        "x = 2\n",
        "y = 3\n",
        "z = 6\n",
        "o = 7\n",
        "x, y, z = 2, 3, 6\n",
        "x, y, z, o= o, z, y, x\n",
        "print(x, y, z, o)\n"
      ]
    }
  ],
  "metadata": {
    "kernelspec": {
      "display_name": "Python 3 (ipykernel)",
      "language": "python",
      "name": "python3"
    },
    "language_info": {
      "codemirror_mode": {
        "name": "ipython",
        "version": 3
      },
      "file_extension": ".py",
      "mimetype": "text/x-python",
      "name": "python",
      "nbconvert_exporter": "python",
      "pygments_lexer": "ipython3",
      "version": "3.11.0"
    },
    "colab": {
      "provenance": [],
      "include_colab_link": true
    }
  },
  "nbformat": 4,
  "nbformat_minor": 0
}