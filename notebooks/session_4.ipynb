{
  "cells": [
    {
      "cell_type": "markdown",
      "metadata": {
        "id": "view-in-github",
        "colab_type": "text"
      },
      "source": [
        "<a href=\"https://colab.research.google.com/github/shiva-nafari/ce153-fundamentals-of-programming-in-python/blob/main/notebooks/session_4.ipynb\" target=\"_parent\"><img src=\"https://colab.research.google.com/assets/colab-badge.svg\" alt=\"Open In Colab\"/></a>"
      ]
    },
    {
      "cell_type": "markdown",
      "source": [
        "##Fundamentals of Programming in Python\n",
        "##Session 4"
      ],
      "metadata": {
        "id": "Wvxkl_uWsQFO"
      }
    },
    {
      "cell_type": "markdown",
      "source": [
        "This code swaps the values of x and y using a temporary variable.\n",
        "\n"
      ],
      "metadata": {
        "id": "Mtum76KhsRCM"
      }
    },
    {
      "cell_type": "code",
      "execution_count": null,
      "metadata": {
        "id": "BHdBBXoOrbmD",
        "outputId": "0c502188-0a2d-4577-e417-007d6b087ddd"
      },
      "outputs": [
        {
          "name": "stdout",
          "output_type": "stream",
          "text": [
            "8 6\n"
          ]
        }
      ],
      "source": [
        "x = 6\n",
        "y = 8\n",
        "temp = x\n",
        "x = y\n",
        "y = temp\n",
        "print(x,y)"
      ]
    },
    {
      "cell_type": "markdown",
      "source": [
        "In Python, you can use the following code, which is equivalent to the previous block."
      ],
      "metadata": {
        "id": "X4ZuSQqnsU-f"
      }
    },
    {
      "cell_type": "code",
      "execution_count": null,
      "metadata": {
        "id": "-TF8udnzrbmF"
      },
      "outputs": [],
      "source": [
        "x, y = y, x"
      ]
    },
    {
      "cell_type": "markdown",
      "source": [
        "##**Conditionals in Python**\n",
        "Conditionals in Python allow you to control the flow of a program based on conditions. The main conditional statements are:\n",
        "\n",
        "if: Executes a block of code if the condition is True.\n",
        "\n",
        "elif (else if): Checks another condition if the previous one is False.\n",
        "\n",
        "else: Executes a block of code if all previous conditions are False.\n"
      ],
      "metadata": {
        "id": "kKYCGkPEvcW9"
      }
    },
    {
      "cell_type": "markdown",
      "source": [
        "The following code takes a user input, converts it into an integer, and checks if the entered number is equal to 10."
      ],
      "metadata": {
        "id": "R52WH6SQvrUX"
      }
    },
    {
      "cell_type": "code",
      "execution_count": null,
      "metadata": {
        "id": "wlusc8PPrbmG"
      },
      "outputs": [],
      "source": [
        "number = int(input('Enter a number'))\n",
        "if number == 10 :\n",
        "    print('ok!')\n",
        "else:\n",
        "    print('no!')\n"
      ]
    },
    {
      "cell_type": "markdown",
      "source": [
        "The following block checks the value of the variable season and prints a corresponding gardening action based on the season.\n",
        "\n"
      ],
      "metadata": {
        "id": "p2yajvAfv8EI"
      }
    },
    {
      "cell_type": "code",
      "execution_count": null,
      "metadata": {
        "id": "zrYnm-hHrbmG",
        "outputId": "c05d4ccd-a9b5-42b0-e8a1-3576aacd6d3b"
      },
      "outputs": [
        {
          "name": "stdout",
          "output_type": "stream",
          "text": [
            "unrecognized season\n"
          ]
        }
      ],
      "source": [
        "season = 'winter'\n",
        "if season == 'spring' :\n",
        "    print('plant the garden.')\n",
        "elif season == 'summer' :\n",
        "    print('water the garden')\n",
        "elif season == 'fall' :\n",
        "    print('harvest the garden.')\n",
        "else:\n",
        "    print('unrecognized season')\n",
        "\n"
      ]
    },
    {
      "cell_type": "markdown",
      "source": [
        "###**Boolean in Python**\n",
        "A Boolean is a data type that can hold one of two possible values: **True or False**. It is used to represent logical values and is commonly used in conditional statements and comparisons.\n",
        "\n",
        "**Key Points**:\n",
        "\n",
        "Boolean Values:\n",
        "\n",
        "True: Represents a logical truth.\n",
        "False: Represents a logical falsehood.\n",
        "\n",
        "**Operations with Booleans**:\n",
        "\n",
        "Comparison Operators: Use comparisons like ==, !=, >, < to return Boolean values.\n",
        "\n",
        "**Logical Operators**: Use and, or, and not to combine Boolean values."
      ],
      "metadata": {
        "id": "Ze_xMyyXay4R"
      }
    },
    {
      "cell_type": "code",
      "source": [
        "a = 10\n",
        "b = 5\n",
        "print(a > b)\n",
        "print(a == b)"
      ],
      "metadata": {
        "colab": {
          "base_uri": "https://localhost:8080/"
        },
        "id": "iTh5HAmUbQPl",
        "outputId": "25c33ede-3f3b-4293-ebd9-61cb6d519a09"
      },
      "execution_count": null,
      "outputs": [
        {
          "output_type": "stream",
          "name": "stdout",
          "text": [
            "True\n",
            "False\n"
          ]
        }
      ]
    },
    {
      "cell_type": "code",
      "execution_count": null,
      "metadata": {
        "id": "bdJN03Z8rbmG",
        "outputId": "3a74d77c-f0dd-4177-b861-b31d4c168a9f"
      },
      "outputs": [
        {
          "name": "stdout",
          "output_type": "stream",
          "text": [
            "<class 'bool'>\n"
          ]
        }
      ],
      "source": [
        "am_i_a_good_teacher = True\n",
        "print(type(am_i_a_good_teacher))"
      ]
    },
    {
      "cell_type": "code",
      "execution_count": null,
      "metadata": {
        "id": "WVaoMbcTrbmH",
        "outputId": "d9f18c59-2821-4b12-a49b-8bf7993d31d0"
      },
      "outputs": [
        {
          "name": "stdout",
          "output_type": "stream",
          "text": [
            "True\n"
          ]
        }
      ],
      "source": [
        "are_you_good_students = False\n",
        "result = am_i_a_good_teacher or are_you_good_students\n",
        "print(result)"
      ]
    },
    {
      "cell_type": "code",
      "execution_count": null,
      "metadata": {
        "id": "WqFEODC8rbmH",
        "outputId": "f5da74ca-07ee-4064-8279-753346bd19a0"
      },
      "outputs": [
        {
          "name": "stdout",
          "output_type": "stream",
          "text": [
            "True\n"
          ]
        }
      ],
      "source": [
        "print(not(are_you_good_students))"
      ]
    },
    {
      "cell_type": "code",
      "execution_count": null,
      "metadata": {
        "id": "1TOL02dqrbmH",
        "outputId": "bebdbe9f-5e7f-4e79-e9bf-6c845b092ffc"
      },
      "outputs": [
        {
          "name": "stdin",
          "output_type": "stream",
          "text": [
            "enter a number: 12\n"
          ]
        },
        {
          "name": "stdout",
          "output_type": "stream",
          "text": [
            "yes!\n"
          ]
        }
      ],
      "source": [
        "num = int(input('enter a number:'))\n",
        "if num % 3 == 0 :\n",
        "    print('yes!')\n",
        "else:\n",
        "    print('no !')\n",
        "\n"
      ]
    },
    {
      "cell_type": "code",
      "execution_count": null,
      "metadata": {
        "id": "QemcV7k8rbmH",
        "outputId": "d6b3b98d-0f2e-43ea-f278-561dfe1f9dc2"
      },
      "outputs": [
        {
          "name": "stdin",
          "output_type": "stream",
          "text": [
            "enter your age: 23\n"
          ]
        }
      ],
      "source": [
        "age = input('enter your age:')\n",
        "if age.isdecimal():\n",
        "    age_int = int(age)\n",
        "\n",
        "else:\n",
        "    print('your age should be an integer!')\n"
      ]
    }
  ],
  "metadata": {
    "kernelspec": {
      "display_name": "Python 3 (ipykernel)",
      "language": "python",
      "name": "python3"
    },
    "language_info": {
      "codemirror_mode": {
        "name": "ipython",
        "version": 3
      },
      "file_extension": ".py",
      "mimetype": "text/x-python",
      "name": "python",
      "nbconvert_exporter": "python",
      "pygments_lexer": "ipython3",
      "version": "3.11.0"
    },
    "colab": {
      "provenance": [],
      "include_colab_link": true
    }
  },
  "nbformat": 4,
  "nbformat_minor": 0
}