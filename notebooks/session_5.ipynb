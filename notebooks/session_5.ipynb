{
  "cells": [
    {
      "cell_type": "markdown",
      "metadata": {
        "id": "view-in-github",
        "colab_type": "text"
      },
      "source": [
        "<a href=\"https://colab.research.google.com/github/shiva-nafari/ce153-fundamentals-of-programming-in-python/blob/main/notebooks/session_5.ipynb\" target=\"_parent\"><img src=\"https://colab.research.google.com/assets/colab-badge.svg\" alt=\"Open In Colab\"/></a>"
      ]
    },
    {
      "cell_type": "markdown",
      "source": [
        "##Fundamentals of Programming in Python\n",
        "##Session 5"
      ],
      "metadata": {
        "id": "IW7ACDOKdu_P"
      }
    },
    {
      "cell_type": "markdown",
      "source": [
        "The following code demonstrates the usage of Boolean variables and logical operators in Python, such as and, or, not, and comparisons.\n",
        "\n",
        "Boolean Variables:"
      ],
      "metadata": {
        "id": "ECe1-B6wctlH"
      }
    },
    {
      "cell_type": "code",
      "source": [
        "x = True\n",
        "y = False"
      ],
      "metadata": {
        "id": "r6Je330UctQ6"
      },
      "execution_count": null,
      "outputs": []
    },
    {
      "cell_type": "markdown",
      "source": [
        "type() Function:\n",
        "\n",
        "Prints the type of x, which is <class 'bool'> since x is a Boolean."
      ],
      "metadata": {
        "id": "JyO122MBdHO5"
      }
    },
    {
      "cell_type": "code",
      "source": [
        "print(type(x))"
      ],
      "metadata": {
        "colab": {
          "base_uri": "https://localhost:8080/"
        },
        "id": "E4crON2xdSza",
        "outputId": "d9fdbc87-4853-49da-eb98-739d77723a92"
      },
      "execution_count": null,
      "outputs": [
        {
          "output_type": "stream",
          "name": "stdout",
          "text": [
            "<class 'bool'>\n"
          ]
        }
      ]
    },
    {
      "cell_type": "markdown",
      "source": [
        "**Logical Operations**:\n",
        "\n",
        "z = x and y: and operator returns True only if both operands are True.\n",
        "Since y is False, z becomes False.\n",
        "\n",
        "z1 = x or y: or operator returns True if at least one operand is True. Since x is True, z1 becomes True.\n",
        "\n",
        "z2 = not x: not negates the Boolean value. Since x is True, z2 becomes False."
      ],
      "metadata": {
        "id": "lsDUXmX9d44W"
      }
    },
    {
      "cell_type": "code",
      "source": [
        "z = x and y\n",
        "z1 = x or y\n",
        "z2 = not x\n",
        "print(z2)\n",
        "print(z)\n",
        "print(z1)"
      ],
      "metadata": {
        "colab": {
          "base_uri": "https://localhost:8080/"
        },
        "id": "pYibSRrmeK7K",
        "outputId": "d9e22b04-a47d-47b3-d14b-1b7d1c4f9575"
      },
      "execution_count": null,
      "outputs": [
        {
          "output_type": "stream",
          "name": "stdout",
          "text": [
            "False\n",
            "False\n",
            "True\n"
          ]
        }
      ]
    },
    {
      "cell_type": "markdown",
      "source": [
        "**Comparisons and Additional Logical Operations**:\n",
        "\n",
        "x != y: The **!=** operator checks if x and y are different.\n",
        "\n",
        "Since x is True and y is False, this evaluates to True.\n",
        "\n",
        "not(x == y): Checks if x and y are equal, negates the result.\n",
        "\n",
        "Since x and y are not equal, it evaluates to True.\n",
        "\n",
        "x == y: Checks if x and y are equal, evaluates to False.\n"
      ],
      "metadata": {
        "id": "3MH2FJ6eebKe"
      }
    },
    {
      "cell_type": "code",
      "execution_count": null,
      "metadata": {
        "colab": {
          "base_uri": "https://localhost:8080/"
        },
        "id": "V5AZJsf5cR8F",
        "outputId": "bfcca1fd-9a70-4cc0-fc8e-9c60fd3434cd"
      },
      "outputs": [
        {
          "output_type": "stream",
          "name": "stdout",
          "text": [
            "True\n",
            "True\n",
            "False\n"
          ]
        }
      ],
      "source": [
        "#xor, exclusive or  !=\n",
        "#xnor not xor ==\n",
        "#nand not and\n",
        "#nor not or\n",
        "print(x != y)\n",
        "print(not(x == y))\n",
        "print (x == y)\n"
      ]
    },
    {
      "cell_type": "code",
      "execution_count": null,
      "metadata": {
        "id": "uc6ijk8KcR8H",
        "outputId": "f743a61e-1040-49de-ad4c-d95c13c7a053"
      },
      "outputs": [
        {
          "name": "stdout",
          "output_type": "stream",
          "text": [
            "True\n"
          ]
        }
      ],
      "source": [
        "x1 = 15\n",
        "y2 = 19\n",
        "print(x1 < y2)"
      ]
    },
    {
      "cell_type": "code",
      "execution_count": null,
      "metadata": {
        "id": "D2c346vjcR8I",
        "outputId": "9e0923a5-82f3-44e6-bfe6-a727aca465cf"
      },
      "outputs": [
        {
          "name": "stdout",
          "output_type": "stream",
          "text": [
            "False\n"
          ]
        }
      ],
      "source": [
        "print(x1 > y2)"
      ]
    },
    {
      "cell_type": "markdown",
      "source": [
        "The following code asks the user to input their age, validates if the input is a valid integer, and then checks whether the age falls within a certain range (18 to 50 years) for registration."
      ],
      "metadata": {
        "id": "Swr-NDbafIaw"
      }
    },
    {
      "cell_type": "code",
      "execution_count": null,
      "metadata": {
        "id": "fb9zcp7DcR8I",
        "outputId": "d4d90297-ad98-49cb-dafc-397922f668bb"
      },
      "outputs": [
        {
          "name": "stdin",
          "output_type": "stream",
          "text": [
            "enter your age :  Eleven\n"
          ]
        },
        {
          "name": "stdout",
          "output_type": "stream",
          "text": [
            "please enter your age as an integer number!\n"
          ]
        }
      ],
      "source": [
        "age = input('enter your age : ')\n",
        "if age.isdecimal():\n",
        "    age_int = int(age)\n",
        "    if  18 <= age_int < 50:\n",
        "        print('register')\n",
        "    else:\n",
        "        print('deny')\n",
        "else:\n",
        "    print('please enter your age as an integer number!')\n"
      ]
    },
    {
      "cell_type": "markdown",
      "source": [
        "The following code demonstrates the usage of the split() method in Python to break a string into a list of words."
      ],
      "metadata": {
        "id": "JlYfOE9yfUO2"
      }
    },
    {
      "cell_type": "code",
      "execution_count": null,
      "metadata": {
        "id": "U_vxMCuWcR8I",
        "outputId": "ffb29344-6305-4b15-d16d-aaa82eaa131e"
      },
      "outputs": [
        {
          "name": "stdout",
          "output_type": "stream",
          "text": [
            "['welcome', 'to', 'this', 'class']\n"
          ]
        }
      ],
      "source": [
        "txt = 'welcome to this class'\n",
        "x3 = txt.split()\n",
        "print(x3)"
      ]
    },
    {
      "cell_type": "code",
      "execution_count": null,
      "metadata": {
        "id": "GSCiBFKdcR8I",
        "outputId": "76e01233-94b2-4936-cf87-8460b9959b06"
      },
      "outputs": [
        {
          "name": "stdout",
          "output_type": "stream",
          "text": [
            "welcome\n"
          ]
        }
      ],
      "source": [
        "print(x3[0])"
      ]
    },
    {
      "cell_type": "code",
      "execution_count": null,
      "metadata": {
        "id": "79O6ZJ7RcR8J",
        "outputId": "725ff12d-6608-4e1d-9560-467b11275fb4"
      },
      "outputs": [
        {
          "name": "stdout",
          "output_type": "stream",
          "text": [
            "class\n"
          ]
        }
      ],
      "source": [
        "print(x3[-1])"
      ]
    },
    {
      "cell_type": "markdown",
      "source": [
        "Write a program that takes an equation in the form of \"Ax + B = 0\" (where A and B are numbers) as input, solves for x, and displays the solution. The program should handle special cases where the equation has no solution or infinite solutions."
      ],
      "metadata": {
        "id": "KFC0fJC7fkbm"
      }
    },
    {
      "cell_type": "code",
      "execution_count": null,
      "metadata": {
        "id": "N7fZtaHUcR8J",
        "outputId": "12d74d82-1c39-4a2f-d1be-c2fe7b4e5053"
      },
      "outputs": [
        {
          "name": "stdin",
          "output_type": "stream",
          "text": [
            " 6x + 7 = 2\n"
          ]
        },
        {
          "name": "stdout",
          "output_type": "stream",
          "text": [
            "['6x', '+', '7', '=', '2']\n",
            "the equation at x = -1.17 gets zero\n"
          ]
        }
      ],
      "source": [
        "equation = input().split()\n",
        "print(equation)\n",
        "a = float(equation[0][:-1])\n",
        "b = float(equation[1] + equation[2])\n",
        "if a == 0 and b != 0 :\n",
        "    print('there is no solution for this equation')\n",
        "elif a == 0 and b == 0 :\n",
        "    print('any value of x satisfies this equation')\n",
        "else:\n",
        "    print(f'the equation at x = {-b/a : .2f} gets zero')"
      ]
    },
    {
      "cell_type": "markdown",
      "source": [
        "Write a program that takes three float numbers as input, calculates their squares, sums them up, and then calculates and prints the square root of that sum."
      ],
      "metadata": {
        "id": "dXLPfZLegOuK"
      }
    },
    {
      "cell_type": "code",
      "execution_count": null,
      "metadata": {
        "id": "nafOFLZFcR8J",
        "outputId": "502fe3e9-fdfb-4d8e-a859-91dbe4d79baa"
      },
      "outputs": [
        {
          "name": "stdin",
          "output_type": "stream",
          "text": [
            " 0 1 0\n"
          ]
        },
        {
          "name": "stdout",
          "output_type": "stream",
          "text": [
            "1.0\n"
          ]
        }
      ],
      "source": [
        "a, b, c = map(float, input().split())\n",
        "a2 = a ** 2\n",
        "b2 = b ** 2\n",
        "c2 = c ** 2\n",
        "z = (a2 + b2 + c2) ** (1/2)\n",
        "\n",
        "print(z)\n",
        "\n"
      ]
    }
  ],
  "metadata": {
    "kernelspec": {
      "display_name": "Python 3 (ipykernel)",
      "language": "python",
      "name": "python3"
    },
    "language_info": {
      "codemirror_mode": {
        "name": "ipython",
        "version": 3
      },
      "file_extension": ".py",
      "mimetype": "text/x-python",
      "name": "python",
      "nbconvert_exporter": "python",
      "pygments_lexer": "ipython3",
      "version": "3.11.0"
    },
    "colab": {
      "provenance": [],
      "include_colab_link": true
    }
  },
  "nbformat": 4,
  "nbformat_minor": 0
}