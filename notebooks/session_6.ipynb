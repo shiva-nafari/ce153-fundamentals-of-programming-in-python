{
  "cells": [
    {
      "cell_type": "markdown",
      "metadata": {
        "id": "view-in-github",
        "colab_type": "text"
      },
      "source": [
        "<a href=\"https://colab.research.google.com/github/shiva-nafari/ce153-fundamentals-of-programming-in-python/blob/main/notebooks/session_6.ipynb\" target=\"_parent\"><img src=\"https://colab.research.google.com/assets/colab-badge.svg\" alt=\"Open In Colab\"/></a>"
      ]
    },
    {
      "cell_type": "markdown",
      "source": [
        "##Fundamentals of Programming in Python\n",
        "##Session 6"
      ],
      "metadata": {
        "id": "ySrL4jUnhG4r"
      }
    },
    {
      "cell_type": "markdown",
      "source": [
        "###**Description of Data Collection (List) in Python**:\n",
        "In Python, a list is a **mutable**, **ordered collection** that allows you to store multiple items in a single variable. It is one of the most versatile and widely used data structures for organizing data.\n",
        "\n",
        "**Key Features:**\n",
        "**Ordered**: The elements in a list have a defined order, and that order will not change unless you explicitly modify the list.\n",
        "\n",
        "**Mutable**: Lists can be changed after creation. You can add, remove, or modify elements.\n",
        "\n",
        "**Heterogeneous**: Lists can store elements of different data types, such as integers, strings, and even other lists.\n",
        "\n",
        "**Indexed**: Each element in a list has an index, starting from 0 for the first item, allowing for easy access and modification."
      ],
      "metadata": {
        "id": "FSKzU95ShWDt"
      }
    },
    {
      "cell_type": "code",
      "execution_count": null,
      "metadata": {
        "id": "cVpPblTNhFWr",
        "outputId": "0e102ff5-90da-4ab9-9983-ec7a6653073f"
      },
      "outputs": [
        {
          "name": "stdout",
          "output_type": "stream",
          "text": [
            "[13.5, True, 13, 12]\n",
            "['sahar', 12, 13.5]\n",
            "12\n",
            "<class 'list'>\n",
            "5\n"
          ]
        }
      ],
      "source": [
        "#Data collections\n",
        "#list, set, tuple, dictionaray\n",
        "#list --> ordered, indexing, mutable\n",
        "lst = ['sahar', 12, 13.5, True, 13, 12]\n",
        "print(lst[2:])\n",
        "print(lst[:3])\n",
        "print(lst[-1])\n",
        "lst[0] = 11\n",
        "students = ['sara','sara','ali','reza','sara']\n",
        "print(type(students))\n",
        "print(len(students))\n"
      ]
    },
    {
      "cell_type": "markdown",
      "source": [
        "In the following code, two lists, x and y, are defined, and their contents are combined using the + operator.\n",
        "\n",
        "The + operator is used to concatenate (combine) the two lists x and y."
      ],
      "metadata": {
        "id": "_UU3C7B9hF-0"
      }
    },
    {
      "cell_type": "code",
      "execution_count": null,
      "metadata": {
        "id": "eGgoWarQhFWu",
        "outputId": "3977c754-7521-41a3-d8fb-edb233432903"
      },
      "outputs": [
        {
          "name": "stdout",
          "output_type": "stream",
          "text": [
            "[1, 2, 3, 4, 5, 6, 7, 8, 9, 10]\n"
          ]
        }
      ],
      "source": [
        "x = [1,2,3,4,5]\n",
        "y = [6,7,8,9,10]\n",
        "print(x + y)"
      ]
    },
    {
      "cell_type": "markdown",
      "source": [
        "###**Description of Data Collection (Set) in Python**:\n",
        "A set is an unordered, mutable collection of unique elements in Python. It is commonly used when you need to store multiple items and ensure that there are no duplicates, and the order of elements doesn't matter.\n",
        "\n",
        "**Key Features of a Set**:\n",
        "\n",
        "**Unordered**: Sets do not maintain the order of elements. When you iterate over a set, the items may not be in the same order in which they were added.\n",
        "\n",
        "**Unique**: Sets automatically remove duplicates. Each element in a set is guaranteed to be unique.\n",
        "\n",
        "**Mutable**: You can add or remove elements from a set after it has been created.\n",
        "\n",
        "**No Indexing**: Unlike lists, sets do not support indexing, slicing, or other sequence-like behavior. You can't access elements by index.\n",
        "\n",
        "**Iterable**: You can loop over a set using a for loop or other iteration methods.\n"
      ],
      "metadata": {
        "id": "_37jNRODigTs"
      }
    },
    {
      "cell_type": "code",
      "execution_count": null,
      "metadata": {
        "id": "e88qOHCShFWu",
        "outputId": "eba1ee0c-639b-4838-9ec5-dd1074a10929"
      },
      "outputs": [
        {
          "name": "stdout",
          "output_type": "stream",
          "text": [
            "5\n",
            "<class 'set'>\n",
            "{16, 'sepehr', 'armin', 12, 15.5}\n"
          ]
        }
      ],
      "source": [
        "#set --> unique, unordered, membership\n",
        "st = {'armin', 'sepehr', 12, 12, 16, 15.5}\n",
        "print(len(st))\n",
        "print(type(st))\n",
        "print(st)"
      ]
    },
    {
      "cell_type": "code",
      "execution_count": null,
      "metadata": {
        "id": "ZlxbqgpnhFWu",
        "outputId": "2ed94dac-18bc-4f70-c1fd-6bcda921c021"
      },
      "outputs": [
        {
          "name": "stdout",
          "output_type": "stream",
          "text": [
            "True\n"
          ]
        }
      ],
      "source": [
        "print('sepehr' in st)"
      ]
    },
    {
      "cell_type": "code",
      "execution_count": null,
      "metadata": {
        "id": "yJdbnyhGhFWv",
        "outputId": "426b8e9d-7b5e-45ff-8a0d-b57701b6a30e"
      },
      "outputs": [
        {
          "name": "stdout",
          "output_type": "stream",
          "text": [
            "True\n"
          ]
        }
      ],
      "source": [
        "print('16' not in st)"
      ]
    },
    {
      "cell_type": "code",
      "execution_count": null,
      "metadata": {
        "id": "XnfNDxDGhFWv"
      },
      "outputs": [],
      "source": [
        "fruits = ['apple', 'cherry', 'orange', 'watermelon']"
      ]
    },
    {
      "cell_type": "markdown",
      "source": [
        "##**Description of Loops in Python**: while and for\n",
        "\n",
        "In Python, loops are used to execute a block of code repeatedly.\n",
        "\n",
        "There are two primary types of loops: the while loop and the for loop.\n",
        "\n",
        "Both serve different purposes and are used based on the specific needs of the program."
      ],
      "metadata": {
        "id": "2WPQ2QMxjs5a"
      }
    },
    {
      "cell_type": "markdown",
      "source": [
        "####1. while Loop:\n",
        "\n",
        "A while loop repeatedly executes a block of code as long as a given condition is true.\n",
        "\n",
        "The loop continues executing as long as the condition evaluates to True. Once the condition becomes False, the loop stops.\n",
        "\n",
        "\n",
        "It's important to make sure the condition eventually becomes False, otherwise, the loop will run indefinitely (infinite loop).\n",
        "\n",
        "\n",
        "\n",
        "\n",
        "\n",
        "\n",
        "#####**Use Cases:**\n",
        "When you don’t know how many times you need to iterate, and the loop should run based on a dynamic condition.\n",
        "Commonly used in scenarios like reading from a file, processing user input, or waiting for some condition to be met.\n"
      ],
      "metadata": {
        "id": "nu0skUTVkMNa"
      }
    },
    {
      "cell_type": "code",
      "execution_count": null,
      "metadata": {
        "id": "9CSJDjWYhFWv",
        "outputId": "fb4857f6-000b-40f2-f126-02e42795c2a1"
      },
      "outputs": [
        {
          "name": "stdout",
          "output_type": "stream",
          "text": [
            "apple\n",
            "cherry\n",
            "orange\n",
            "watermelon\n"
          ]
        }
      ],
      "source": [
        "#while\n",
        "index = 0\n",
        "while index < len(fruit):\n",
        "    print(fruit[index])\n",
        "    index += 1\n"
      ]
    },
    {
      "cell_type": "markdown",
      "source": [
        "####2. for Loop:\n",
        "A for loop is used to iterate over a sequence (like a list, tuple, string, or range) and execute a block of code for each element in the sequence.\n",
        "\n",
        "\n",
        "The loop runs for each element in the sequence (which can be a list, string, tuple, or even a range), assigning each element to variable during each iteration.\n",
        "\n",
        "\n",
        "#####**Use Cases:**\n",
        "When you know the number of iterations in advance, or when you are iterating over a collection of items.\n",
        "Ideal for processing elements of lists, tuples, strings, or performing tasks with a specific number of repetitions.\n",
        "\n"
      ],
      "metadata": {
        "id": "wjvGb96nk3I6"
      }
    },
    {
      "cell_type": "code",
      "execution_count": null,
      "metadata": {
        "id": "ipOCa8RShFWv",
        "outputId": "2c3c3aa9-61ca-4079-83f2-5af6abf0cb8e"
      },
      "outputs": [
        {
          "name": "stdout",
          "output_type": "stream",
          "text": [
            "apple\n",
            "cherry\n",
            "orange\n",
            "watermelon\n"
          ]
        }
      ],
      "source": [
        "#for\n",
        "for fruit in fruits:\n",
        "    print(fruit)"
      ]
    },
    {
      "cell_type": "markdown",
      "source": [
        "###**Description of the range() Function in Python**\n",
        "\n",
        "The range() function is used to generate a sequence of numbers. It is commonly used in conjunction with loops (especially for loops) to iterate a specific number of times. The function can take one, two, or three arguments to define the range of numbers."
      ],
      "metadata": {
        "id": "ONxh67oXlhWE"
      }
    },
    {
      "cell_type": "code",
      "source": [
        "#range(start, stop, step)"
      ],
      "metadata": {
        "id": "Xjx-iTRKlnfI"
      },
      "execution_count": null,
      "outputs": []
    },
    {
      "cell_type": "markdown",
      "source": [
        "start (optional): The starting value of the sequence (inclusive). The default is 0.\n",
        "\n",
        "stop: The value where the sequence ends (exclusive). The sequence will not include this value.\n",
        "\n",
        "step (optional): The difference between each pair of consecutive numbers in the sequence. The default is 1.\n"
      ],
      "metadata": {
        "id": "zpRhl9gLl4IO"
      }
    },
    {
      "cell_type": "code",
      "execution_count": null,
      "metadata": {
        "id": "o-0U8UbshFWw",
        "outputId": "0e868674-8f17-4e9f-d1b5-67fa6e4c1920"
      },
      "outputs": [
        {
          "name": "stdout",
          "output_type": "stream",
          "text": [
            "0 2 4 6 8 10 "
          ]
        }
      ],
      "source": [
        "#range\n",
        "for x in range(0,11,2):\n",
        "    print(x,end=' ')"
      ]
    },
    {
      "cell_type": "code",
      "execution_count": null,
      "metadata": {
        "id": "QMPVaEiahFWw",
        "outputId": "38d7fecc-3069-4cf7-804e-bb195ef5d66f"
      },
      "outputs": [
        {
          "name": "stdout",
          "output_type": "stream",
          "text": [
            "0 1 2 3 4 5 6 7 8 "
          ]
        }
      ],
      "source": [
        "for x in range(9):\n",
        "    print(x,end=' ')"
      ]
    },
    {
      "cell_type": "code",
      "execution_count": null,
      "metadata": {
        "id": "4KLRtFXJhFWw",
        "outputId": "04743b17-fb67-4868-e516-96fd05187f34"
      },
      "outputs": [
        {
          "name": "stdout",
          "output_type": "stream",
          "text": [
            "1 0\n",
            "1 1\n",
            "2 0\n",
            "2 1\n"
          ]
        }
      ],
      "source": [
        "#nested loop\n",
        "for x in range(1,3):\n",
        "    for y in range(2):\n",
        "        print(x,y)"
      ]
    },
    {
      "cell_type": "code",
      "execution_count": null,
      "metadata": {
        "id": "pz14SSdzhFWw",
        "outputId": "7d2499a5-ed7d-4190-bf30-9872d0a27cd8"
      },
      "outputs": [
        {
          "name": "stdout",
          "output_type": "stream",
          "text": [
            "[0, 1, 2, 3]\n"
          ]
        }
      ],
      "source": [
        "print(list(range(4)))"
      ]
    },
    {
      "cell_type": "code",
      "execution_count": null,
      "metadata": {
        "id": "x_Fk4PDJhFWw",
        "outputId": "b3c5b0ea-6fc8-4007-8db1-6028d705bd79"
      },
      "outputs": [
        {
          "name": "stdout",
          "output_type": "stream",
          "text": [
            "[20, 19, 18, 17, 16, 15, 14, 13, 12, 11]\n"
          ]
        }
      ],
      "source": [
        "print(list(range(20,10,-1)))"
      ]
    },
    {
      "cell_type": "markdown",
      "source": [
        "###**Description of continue and break in Python**\n",
        "\n",
        "The continue and break statements in Python are used to control the flow of loops.\n",
        "\n",
        "They allow you to modify the behavior of loops like for and while in specific ways, helping to make your code more efficient or clear.\n",
        "\n"
      ],
      "metadata": {
        "id": "0XieyZGymNsD"
      }
    },
    {
      "cell_type": "markdown",
      "source": [
        "####**1. continue Statement**:\n",
        "The continue statement is used to skip the current iteration of a loop and proceed to the next iteration.\n",
        "\n",
        "When the continue statement is encountered, the remaining code in the current iteration is skipped, and the loop moves on to the next iteration.\n",
        "\n",
        "It is typically used when you want to skip certain conditions but continue with the rest of the loop.\n"
      ],
      "metadata": {
        "id": "47qdBtrXmUhp"
      }
    },
    {
      "cell_type": "code",
      "source": [
        "for i in range(5):\n",
        "    if i == 2:\n",
        "        continue  # Skip printing 2\n",
        "    print(i)\n"
      ],
      "metadata": {
        "colab": {
          "base_uri": "https://localhost:8080/"
        },
        "id": "dBWjKF2umfpY",
        "outputId": "6c6d3425-9337-4710-9a4d-f72f6be4e8b8"
      },
      "execution_count": null,
      "outputs": [
        {
          "output_type": "stream",
          "name": "stdout",
          "text": [
            "0\n",
            "1\n",
            "3\n",
            "4\n"
          ]
        }
      ]
    },
    {
      "cell_type": "markdown",
      "source": [
        "###**Use Cases**:\n",
        "Skipping specific iterations in a loop (e.g., filtering out invalid inputs or specific conditions).\n",
        "When you don't want to exit the loop but need to avoid certain actions within it."
      ],
      "metadata": {
        "id": "3cpk-FCRmoEk"
      }
    },
    {
      "cell_type": "markdown",
      "source": [
        "####**2. break Statement**:\n",
        "The break statement is used to exit the current loop entirely, regardless of the loop's condition.\n",
        "\n",
        "When the break statement is encountered, the loop is immediately terminated, and the program continues with the next line of code after the loop.\n"
      ],
      "metadata": {
        "id": "3KoqOHT9mwuh"
      }
    },
    {
      "cell_type": "code",
      "execution_count": null,
      "metadata": {
        "id": "7DzfJDzchFWw",
        "outputId": "e099e8c7-f2a7-4f29-efe8-ad5aac50472d"
      },
      "outputs": [
        {
          "name": "stdout",
          "output_type": "stream",
          "text": [
            "0\n",
            "1\n",
            "2\n"
          ]
        }
      ],
      "source": [
        "#break, continue\n",
        "i = 0\n",
        "while i < 6:\n",
        "    if i == 3:\n",
        "        break\n",
        "    print(i)\n",
        "    i += 1"
      ]
    },
    {
      "cell_type": "markdown",
      "source": [
        "####Use Cases:\n",
        "Exiting a loop when a certain condition is met (e.g., found an element in a list or completed a task).\n",
        "Stopping an infinite loop or an unnecessary loop when the desired result is achieved.\n"
      ],
      "metadata": {
        "id": "-sOF4rHLm9PB"
      }
    },
    {
      "cell_type": "code",
      "execution_count": null,
      "metadata": {
        "id": "YJ0VFLTUhFWx",
        "outputId": "53d57f70-7dca-47c3-c83c-3af299507efd"
      },
      "outputs": [
        {
          "name": "stdout",
          "output_type": "stream",
          "text": [
            "0\n",
            "1\n",
            "2\n"
          ]
        }
      ],
      "source": [
        "for i in range(7):\n",
        "    if i == 3:\n",
        "        break\n",
        "    print(i)\n"
      ]
    },
    {
      "cell_type": "code",
      "execution_count": null,
      "metadata": {
        "id": "6FBQDLPfhFWx"
      },
      "outputs": [],
      "source": [
        "#for\n",
        "for i in range(5):\n",
        "    if i == 3:\n",
        "        continue\n",
        "    print(i)"
      ]
    },
    {
      "cell_type": "code",
      "execution_count": null,
      "metadata": {
        "id": "kSWeunjzhFWx",
        "outputId": "43cc1474-f3a6-4d10-d537-64babd0f48ea"
      },
      "outputs": [
        {
          "name": "stdout",
          "output_type": "stream",
          "text": [
            "0\n",
            "1\n",
            "2\n",
            "3\n"
          ]
        }
      ],
      "source": [
        "i = 0\n",
        "while i < 7:\n",
        "    if i == 4:\n",
        "        #i += 1\n",
        "        continue\n",
        "    print(i)\n",
        "    i += 1"
      ]
    },
    {
      "cell_type": "code",
      "execution_count": null,
      "metadata": {
        "id": "c3yULsi_hFWx"
      },
      "outputs": [],
      "source": [
        "for x in range(5):\n",
        "    print(x,sep= ' ')\n"
      ]
    },
    {
      "cell_type": "markdown",
      "source": [
        "###Key Differences Between continue and break:\n",
        "continue: Skips the current iteration and continues to the next iteration of the loop.\n",
        "\n",
        "break: Exits the entire loop immediately, regardless of the number of remaining iterations.\n"
      ],
      "metadata": {
        "id": "wpvH-UiGnEWj"
      }
    },
    {
      "cell_type": "code",
      "source": [
        "for i in range(5):\n",
        "    if i == 2:\n",
        "        continue\n",
        "    if i == 4:\n",
        "        break\n",
        "    print(i)\n"
      ],
      "metadata": {
        "colab": {
          "base_uri": "https://localhost:8080/"
        },
        "id": "HVG1SCcTnL5u",
        "outputId": "ac16831d-8bc1-4081-98d4-5a8a083693f3"
      },
      "execution_count": null,
      "outputs": [
        {
          "output_type": "stream",
          "name": "stdout",
          "text": [
            "0\n",
            "1\n",
            "3\n"
          ]
        }
      ]
    }
  ],
  "metadata": {
    "kernelspec": {
      "display_name": "Python 3 (ipykernel)",
      "language": "python",
      "name": "python3"
    },
    "language_info": {
      "codemirror_mode": {
        "name": "ipython",
        "version": 3
      },
      "file_extension": ".py",
      "mimetype": "text/x-python",
      "name": "python",
      "nbconvert_exporter": "python",
      "pygments_lexer": "ipython3",
      "version": "3.11.0"
    },
    "colab": {
      "provenance": [],
      "include_colab_link": true
    }
  },
  "nbformat": 4,
  "nbformat_minor": 0
}