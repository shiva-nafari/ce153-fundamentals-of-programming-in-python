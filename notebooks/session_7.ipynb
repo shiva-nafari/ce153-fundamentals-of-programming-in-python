{
  "cells": [
    {
      "cell_type": "markdown",
      "metadata": {
        "id": "view-in-github",
        "colab_type": "text"
      },
      "source": [
        "<a href=\"https://colab.research.google.com/github/shiva-nafari/ce153-fundamentals-of-programming-in-python/blob/main/notebooks/session_7.ipynb\" target=\"_parent\"><img src=\"https://colab.research.google.com/assets/colab-badge.svg\" alt=\"Open In Colab\"/></a>"
      ]
    },
    {
      "cell_type": "markdown",
      "source": [
        "##Fundamentals of Programming in Python\n",
        "##Session 7"
      ],
      "metadata": {
        "id": "IhqfY0OcjiUL"
      }
    },
    {
      "cell_type": "markdown",
      "source": [
        "# Lists in Python  \n",
        "\n",
        "A **list** is a collection of items that is **ordered, mutable, and allows duplicate values**.  \n",
        "Lists are one of the most commonly used data structures in Python.\n",
        "\n",
        "## Features of Lists  \n",
        "\n",
        "- **Ordered** – Items in a list maintain their order.  \n",
        "- **Mutable** – Lists can be modified (add, remove, or change elements).  \n",
        "- **Allows Duplicates** – Lists can store multiple occurrences of the same value.  \n",
        "- **Supports Multiple Data Types** – A list can contain integers, floats, strings, or even other lists.  \n",
        "- **Indexing & Slicing** – Elements can be accessed using indices (`list[index]`) and slices (`list[start:end]`).  \n"
      ],
      "metadata": {
        "id": "SqM7Q3bBknKs"
      }
    },
    {
      "cell_type": "code",
      "execution_count": null,
      "metadata": {
        "id": "pBPUb0d5jbk8",
        "outputId": "9bbd875c-54a9-4adf-c31e-b105f1607f27"
      },
      "outputs": [
        {
          "name": "stdout",
          "output_type": "stream",
          "text": [
            "<class 'list'>\n",
            "6\n",
            "[10, 'sepehr', True, 12, 13.5, 10]\n"
          ]
        }
      ],
      "source": [
        "#list\n",
        "#indexing\n",
        "#zero-indexing\n",
        "#mutable\n",
        "lst = [10,'12', True, 12, 13.5, 10]\n",
        "lst[1] = 'sepehr'\n",
        "lst1 = [5, 6, 7, 8]\n",
        "print(type(lst))\n",
        "print(len(lst))\n",
        "print(lst)\n"
      ]
    },
    {
      "cell_type": "markdown",
      "source": [
        "# Lists in Python  \n",
        "\n",
        "A **list** is a collection of items that is **ordered, mutable, and allows duplicate values**.  \n",
        "Lists are one of the most commonly used data structures in Python.\n",
        "\n",
        "## Features of Lists  \n",
        "\n",
        "### 1. **Ordered**  \n",
        "- Lists maintain the order of elements as they are inserted.  \n",
        "- Elements can be accessed using an **index** (`list[index]`).  \n",
        "\n",
        "Example:  \n",
        "```python\n",
        "fruits = ['apple', 'banana', 'cherry']\n",
        "print(fruits[1])  # Output: banana\n"
      ],
      "metadata": {
        "id": "yBkrLYExlQoz"
      }
    },
    {
      "cell_type": "code",
      "execution_count": null,
      "metadata": {
        "id": "R9WDIRAgjbk-",
        "outputId": "6a744406-f28f-4c87-e670-526ead1cc757"
      },
      "outputs": [
        {
          "name": "stdout",
          "output_type": "stream",
          "text": [
            "10\n",
            "10\n",
            "13.5\n"
          ]
        }
      ],
      "source": [
        "print(lst[0])\n",
        "print(lst[-1])\n",
        "print(lst[-2])"
      ]
    },
    {
      "cell_type": "code",
      "execution_count": null,
      "metadata": {
        "id": "NC4q2G6_jbk-",
        "outputId": "c6ff2ca3-32dc-4772-d43a-4ea080387070"
      },
      "outputs": [
        {
          "name": "stdout",
          "output_type": "stream",
          "text": [
            "[10, 13.5, 12]\n"
          ]
        }
      ],
      "source": [
        "print(lst[:-4:-1])"
      ]
    },
    {
      "cell_type": "code",
      "execution_count": null,
      "metadata": {
        "id": "MeftCwsqjbk-",
        "outputId": "0123c6c7-289b-4d9f-a7ca-b4ce4f8182f8"
      },
      "outputs": [
        {
          "name": "stdout",
          "output_type": "stream",
          "text": [
            "[10, True]\n"
          ]
        }
      ],
      "source": [
        "print(lst[:4:2])"
      ]
    },
    {
      "cell_type": "code",
      "execution_count": null,
      "metadata": {
        "id": "ywuWG1VCjbk_",
        "outputId": "d373d982-5ccb-4e48-db08-a623fd50d9d3"
      },
      "outputs": [
        {
          "name": "stdout",
          "output_type": "stream",
          "text": [
            "[10, 'sepehr', True, 12, 13.5, 10, 5, 6, 7, 8]\n"
          ]
        }
      ],
      "source": [
        "print(lst + lst1)\n"
      ]
    },
    {
      "cell_type": "code",
      "execution_count": null,
      "metadata": {
        "id": "otnl4J-qjbk_",
        "outputId": "3969b4f2-aad0-4034-9569-83f735100097"
      },
      "outputs": [
        {
          "name": "stdout",
          "output_type": "stream",
          "text": [
            "[10, 'sepehr', True, 12, 13.5, 10, 10, 'sepehr', True, 12, 13.5, 10]\n"
          ]
        }
      ],
      "source": [
        "print(lst * 2)"
      ]
    },
    {
      "cell_type": "code",
      "execution_count": null,
      "metadata": {
        "id": "x3KNAqlKjbk_",
        "outputId": "6189ed5c-4891-45c0-e0f2-6c6998a66ac9"
      },
      "outputs": [
        {
          "name": "stdout",
          "output_type": "stream",
          "text": [
            "fatemeh sahar sara reza "
          ]
        }
      ],
      "source": [
        "#loop\n",
        "#while, for\n",
        "students = ['zahra', 'fatemeh', 'sahar', 'sara', 'reza']\n",
        "index = 0\n",
        "while index < len(students):\n",
        "    print(students[index], end=' ')\n",
        "    index += 1"
      ]
    },
    {
      "cell_type": "code",
      "execution_count": null,
      "metadata": {
        "id": "2e6DbHxkjbk_",
        "outputId": "64549020-27d5-490a-a82e-da0d5516d2d8"
      },
      "outputs": [
        {
          "name": "stdout",
          "output_type": "stream",
          "text": [
            "zahra\n",
            "fatemeh\n",
            "sahar\n",
            "sara\n",
            "reza\n"
          ]
        }
      ],
      "source": [
        "for i in range(len(students)):\n",
        "    print(students[i])"
      ]
    },
    {
      "cell_type": "code",
      "execution_count": null,
      "metadata": {
        "id": "StQG51qcjbk_",
        "outputId": "acd7ddfc-bfd4-4c44-cfcc-e21f00c6288c"
      },
      "outputs": [
        {
          "name": "stdout",
          "output_type": "stream",
          "text": [
            "zahra\n",
            "fatemeh\n",
            "sahar\n",
            "sara\n",
            "reza\n"
          ]
        }
      ],
      "source": [
        "for i in students:\n",
        "    print(i)"
      ]
    },
    {
      "cell_type": "code",
      "execution_count": null,
      "metadata": {
        "id": "UN78E-5PjblA",
        "outputId": "b3ae7c20-13f2-4bf4-aa97-a5b837403ee3"
      },
      "outputs": [
        {
          "name": "stdout",
          "output_type": "stream",
          "text": [
            "0 1 2 3 4 5 6 7 8 9 10 "
          ]
        }
      ],
      "source": [
        "for x in range(11):\n",
        "    print(x, end = ' ')"
      ]
    },
    {
      "cell_type": "code",
      "execution_count": null,
      "metadata": {
        "id": "0fT48NPmjblA",
        "outputId": "5ed11c39-c613-4478-918a-0d2327e7ad05"
      },
      "outputs": [
        {
          "name": "stdout",
          "output_type": "stream",
          "text": [
            "0 0\n",
            "0 1\n",
            "0 2\n",
            "1 0\n",
            "1 1\n",
            "1 2\n",
            "2 0\n",
            "2 1\n",
            "2 2\n",
            "3 0\n",
            "3 1\n",
            "3 2\n"
          ]
        }
      ],
      "source": [
        "for x in range(4):\n",
        "    for y in range(3):\n",
        "            print(x,y)"
      ]
    },
    {
      "cell_type": "code",
      "execution_count": null,
      "metadata": {
        "id": "Kesmeo5BjblA",
        "outputId": "1ba34674-1d17-4022-a68d-a418f1fd518b"
      },
      "outputs": [
        {
          "name": "stdout",
          "output_type": "stream",
          "text": [
            "5\n",
            "3\n"
          ]
        }
      ],
      "source": [
        "#nesting list\n",
        "lst3 = [1,'12',24.5,True,[1,2,3]]\n",
        "print(len(lst3))\n",
        "two_by_two = [[1,2],[3,4],[5,6]]\n",
        "print(len(two_by_two))"
      ]
    },
    {
      "cell_type": "code",
      "execution_count": null,
      "metadata": {
        "id": "H_S2nMxVjblA",
        "outputId": "8bca2962-86fa-4f37-c098-78bc72a85dbe"
      },
      "outputs": [
        {
          "name": "stdout",
          "output_type": "stream",
          "text": [
            "[3, 4]\n",
            "2\n",
            "5\n"
          ]
        }
      ],
      "source": [
        "print(two_by_two[1])\n",
        "print(two_by_two[0][1])\n",
        "print(two_by_two[2][0])"
      ]
    },
    {
      "cell_type": "code",
      "execution_count": null,
      "metadata": {
        "id": "8NVD5wNYjblA",
        "outputId": "6d5ac2c7-68a0-472b-af6f-8b761496b6ec"
      },
      "outputs": [
        {
          "name": "stdout",
          "output_type": "stream",
          "text": [
            "['p', 'y', 't', 'h', 'o', 'n', ' ', 'i', 's', ' ', 'a', 'm', 'a', 'z', 'i', 'n', 'g']\n",
            "<class 'list'>\n",
            "0\n"
          ]
        }
      ],
      "source": [
        "#casting\n",
        "print(list('python is amazing'))\n",
        "list((1,2,4))\n",
        "empty_list = list()\n",
        "empty_lst = []\n",
        "print(type(empty_lst))\n",
        "print(len(empty_list))"
      ]
    },
    {
      "cell_type": "code",
      "execution_count": null,
      "metadata": {
        "id": "w0lvL-pbjblB",
        "outputId": "ac0a8a5e-16f8-4542-d1cd-cffefec8d121"
      },
      "outputs": [
        {
          "name": "stdout",
          "output_type": "stream",
          "text": [
            "[1, 'sara', 'salam', 4]\n"
          ]
        }
      ],
      "source": [
        "#slicing in lists\n",
        "#mutable\n",
        "numbers = [1,2,3,4]\n",
        "numbers[1:3] = ['sara', True]\n",
        "numbers[2] = 'salam'\n",
        "print(numbers)"
      ]
    },
    {
      "cell_type": "code",
      "execution_count": null,
      "metadata": {
        "id": "tynJxbdYjblB",
        "outputId": "62849ec8-fc36-4d30-ee76-0d45e416dea2"
      },
      "outputs": [
        {
          "name": "stdout",
          "output_type": "stream",
          "text": [
            "True\n",
            "True\n"
          ]
        }
      ],
      "source": [
        "print('sara' in numbers)\n",
        "print('bob' not in numbers)"
      ]
    },
    {
      "cell_type": "code",
      "execution_count": null,
      "metadata": {
        "id": "pPCwBdONjblB",
        "outputId": "707383f2-d6c5-4be9-adec-6536143c1a94"
      },
      "outputs": [
        {
          "name": "stdout",
          "output_type": "stream",
          "text": [
            "2 * 4 = 8\n",
            "2 * 6 = 12\n",
            "4 * 2 = 8\n",
            "4 * 6 = 24\n",
            "6 * 2 = 12\n",
            "6 * 4 = 24\n"
          ]
        }
      ],
      "source": [
        "#continue\n",
        "first = [2, 4, 6]\n",
        "second = [2, 4, 6]\n",
        "for i in first:\n",
        "    for j in second:\n",
        "        if i == j:\n",
        "            continue\n",
        "        print(i, '*', j,'=',i*j)"
      ]
    },
    {
      "cell_type": "code",
      "execution_count": null,
      "metadata": {
        "id": "AMBtNvlpjblB",
        "outputId": "fbfe2005-de39-4e80-a9de-f2aad9b4ccc6"
      },
      "outputs": [
        {
          "name": "stdout",
          "output_type": "stream",
          "text": [
            "1 0\n",
            "2 0\n",
            "2 1\n",
            "3 0\n",
            "3 1\n",
            "3 2\n"
          ]
        }
      ],
      "source": [
        "#break\n",
        "for i in range(4):\n",
        "    for j in range(4):\n",
        "        if j == i:\n",
        "            break\n",
        "        print(i,j)"
      ]
    },
    {
      "cell_type": "markdown",
      "source": [
        "| Method         | Description |\n",
        "|---------------|-------------|\n",
        "| `append(x)`   | Adds an element `x` to the end of the list. |\n",
        "| `extend(iterable)` | Adds all elements from an iterable (e.g., another list). |\n",
        "| `insert(index, x)` | Inserts `x` at the specified `index`. |\n",
        "| `remove(x)`   | Removes the first occurrence of `x`. |\n",
        "| `pop([index])` | Removes and returns the item at `index`. If no index is provided, removes the last item. |\n",
        "| `index(x)`    | Returns the index of the first occurrence of `x`. |\n",
        "| `count(x)`    | Counts how many times `x` appears in the list. |\n",
        "| `sort()`      | Sorts the list in ascending order (modifies in-place). |\n",
        "| `reverse()`   | Reverses the list in-place. |\n",
        "| `copy()`      | Returns a shallow copy of the list. |\n",
        "| `clear()`     | Removes all elements from the list. |\n"
      ],
      "metadata": {
        "id": "sBW1TRJHkMRF"
      }
    },
    {
      "cell_type": "code",
      "execution_count": null,
      "metadata": {
        "id": "iLR6gq43jblB",
        "outputId": "7ed0c877-3f63-4548-afb4-baa0a9c0dec6"
      },
      "outputs": [
        {
          "name": "stdout",
          "output_type": "stream",
          "text": [
            "['red', 'pink', 'green', 'purple', 'orange']\n"
          ]
        }
      ],
      "source": [
        "#list methods\n",
        "#indexing\n",
        "#ordered\n",
        "#mutable\n",
        "lst= ['red', 'pink', 'green', 'purple']\n",
        "lst.append('orange')\n",
        "print(lst)"
      ]
    },
    {
      "cell_type": "code",
      "execution_count": null,
      "metadata": {
        "id": "5N-QJOkwjblB",
        "outputId": "8c164ce5-5333-44d8-d1a2-c195bc0f018a"
      },
      "outputs": [
        {
          "data": {
            "text/plain": [
              "['red', 'black', 'pink', 'green', 'white', 'purple', 'orange']"
            ]
          },
          "execution_count": 3,
          "metadata": {},
          "output_type": "execute_result"
        }
      ],
      "source": [
        "lst.insert(1,'black')\n",
        "lst.insert(4,'white')\n",
        "lst"
      ]
    },
    {
      "cell_type": "code",
      "execution_count": null,
      "metadata": {
        "id": "bu1PhbsBjblB",
        "outputId": "23bf6b74-271e-4507-9058-47e6f5a9a772"
      },
      "outputs": [
        {
          "name": "stdout",
          "output_type": "stream",
          "text": [
            "orange\n",
            "['red', 'black', 'pink', 'green', 'white', 'purple']\n"
          ]
        }
      ],
      "source": [
        "z = lst.pop()\n",
        "print(z)\n",
        "print(lst)"
      ]
    },
    {
      "cell_type": "code",
      "execution_count": null,
      "metadata": {
        "id": "kip8AIGBjblB",
        "outputId": "b1c1ea8e-eb82-44da-f6fb-ccd57217fcc1"
      },
      "outputs": [
        {
          "data": {
            "text/plain": [
              "['red', 'black', 'pink', 'green', 'white', 'purple', 'yellow']"
            ]
          },
          "execution_count": 5,
          "metadata": {},
          "output_type": "execute_result"
        }
      ],
      "source": [
        "lst.append('yellow')\n",
        "lst"
      ]
    },
    {
      "cell_type": "code",
      "execution_count": null,
      "metadata": {
        "id": "Ih8VmSlHjblB",
        "outputId": "5dc9e444-1382-4530-e9a4-3c230320a294"
      },
      "outputs": [
        {
          "name": "stdout",
          "output_type": "stream",
          "text": [
            "['a', 'e', ['o', 'u', 'j'], 'i', 'u', 'y', 'p', 'f']\n"
          ]
        }
      ],
      "source": [
        "t1 = ['a','e',['o','u','j']]\n",
        "t2 = ['i','u','y','p','f']\n",
        "t1.extend(t2)\n",
        "print(t1)"
      ]
    },
    {
      "cell_type": "code",
      "execution_count": null,
      "metadata": {
        "id": "0qJw789ZjblC",
        "outputId": "a1360638-fae5-4711-c80a-73da31da3c44"
      },
      "outputs": [
        {
          "name": "stdout",
          "output_type": "stream",
          "text": [
            "e\n",
            "['a', 'o', 'i', 'u', 'y', 'p', 'f']\n"
          ]
        }
      ],
      "source": [
        "z3 = t1.pop(1)\n",
        "print(z3)\n",
        "print(t1)"
      ]
    },
    {
      "cell_type": "code",
      "execution_count": null,
      "metadata": {
        "id": "dnvDps35jblC",
        "outputId": "478afdab-a5fb-4498-f1fa-ee871bb6a4f8"
      },
      "outputs": [
        {
          "name": "stdout",
          "output_type": "stream",
          "text": [
            "['a', 'e', 'i', 'u', 'y', 'f']\n"
          ]
        }
      ],
      "source": [
        "del t1[2]\n",
        "print(t1)\n"
      ]
    },
    {
      "cell_type": "code",
      "execution_count": null,
      "metadata": {
        "id": "5u6dB8qFjblC",
        "outputId": "2258e6f8-ee71-409d-e5af-1d717be8de62"
      },
      "outputs": [
        {
          "name": "stdout",
          "output_type": "stream",
          "text": [
            "['a', 'e', ['o', 'u'], 'i', 'u', 'y', 'f']\n"
          ]
        }
      ],
      "source": [
        "t1.remove('p')\n",
        "print(t1)"
      ]
    },
    {
      "cell_type": "code",
      "execution_count": null,
      "metadata": {
        "id": "XS6gJPbljblC",
        "outputId": "8a11fade-dad1-43cd-9feb-12d01053277d"
      },
      "outputs": [
        {
          "name": "stdout",
          "output_type": "stream",
          "text": [
            "18\n",
            "1\n",
            "8\n",
            "['Lemon', 'apple', 'cherry', 'orange']\n",
            "['orange', 'cherry', 'apple', 'Lemon']\n"
          ]
        }
      ],
      "source": [
        "nums = [8,1,2,3,4]\n",
        "str = ['apple', 'orange', 'Lemon', 'cherry']\n",
        "print(sum(nums))\n",
        "print(min(nums))\n",
        "print(max(nums))\n",
        "#print(sorted(nums))\n",
        "print(sorted(str))\n",
        "print(sorted(str,reverse=True))\n",
        "#print(sorted(nums,reverse=True))"
      ]
    },
    {
      "cell_type": "markdown",
      "source": [
        "# Tuples in Python\n",
        "\n",
        "A **tuple** is an ordered, immutable collection of items in Python. It is similar to a list, but unlike lists, tuples cannot be modified after they are created. Tuples are one of the fundamental data structures in Python.\n",
        "\n",
        "## Features of Tuples\n",
        "\n",
        "### 1. **Ordered**\n",
        "- Tuples maintain the order of elements as they are inserted.  \n",
        "- Elements can be accessed using an **index** (`tuple[index]`).\n",
        "\n",
        "Example:  \n",
        "```python\n",
        "colors = ('red', 'green', 'blue')\n",
        "print(colors[1])  # Output: green\n"
      ],
      "metadata": {
        "id": "f_wKLEqsrLVp"
      }
    },
    {
      "cell_type": "code",
      "execution_count": null,
      "metadata": {
        "id": "iM9GnF_9jblC",
        "outputId": "7913450c-7da0-4187-8af7-8349c32d6a9e"
      },
      "outputs": [
        {
          "name": "stdout",
          "output_type": "stream",
          "text": [
            "<class 'tuple'>\n",
            "<class 'tuple'>\n",
            "6\n",
            "(6, 'salam')\n"
          ]
        }
      ],
      "source": [
        "#tuple\n",
        "#ordered\n",
        "#indexing\n",
        "#immutable\n",
        "empty_tuple = ()\n",
        "empty_tuple1 = tuple()\n",
        "print(type(empty_tuple1))\n",
        "tpl = (3, 5, 6, 'salam', 'salam', 8)\n",
        "print(type(tpl))\n",
        "print(len(tpl))\n",
        "print(tpl[2::2])"
      ]
    },
    {
      "cell_type": "markdown",
      "source": [
        "# Tuple with a Single Element\n",
        "\n",
        "In Python, a tuple with a single element can be created by placing the element inside parentheses. However, when creating a tuple with one element, a **comma** is required to distinguish it from a regular variable enclosed in parentheses.\n",
        "\n",
        "## Code Example\n",
        "\n",
        "```python\n",
        "x = ('salam')  # This is not a tuple, it is just a string\n",
        "x1 = ('salam',)  # This is a tuple with one element\n",
        "print(type(x))  # Output: <class 'str'>\n",
        "print(type(x1))  # Output: <class 'tuple'>\n"
      ],
      "metadata": {
        "id": "dKCt-jkBrjkH"
      }
    },
    {
      "cell_type": "code",
      "execution_count": null,
      "metadata": {
        "id": "rNGgmMyjjblC",
        "outputId": "c4be650c-61f3-4096-b19b-8020cf12ada4"
      },
      "outputs": [
        {
          "name": "stdout",
          "output_type": "stream",
          "text": [
            "<class 'str'>\n",
            "<class 'tuple'>\n"
          ]
        }
      ],
      "source": [
        "x = ('salam')\n",
        "x1 = ('salam',)\n",
        "print(type(x))\n",
        "print(type(x1))"
      ]
    },
    {
      "cell_type": "code",
      "execution_count": null,
      "metadata": {
        "id": "Kwn-0C7HjblC",
        "outputId": "0b9b17d6-c295-4d19-d9d2-22c6368eb855"
      },
      "outputs": [
        {
          "name": "stdout",
          "output_type": "stream",
          "text": [
            "latitude 13.14\n",
            "longitude 103.32\n"
          ]
        }
      ],
      "source": [
        "location = (13.14, 103.32)\n",
        "type(location)\n",
        "print('latitude',location[0])\n",
        "print('longitude',location[1])"
      ]
    },
    {
      "cell_type": "code",
      "execution_count": null,
      "metadata": {
        "id": "J2teRecHjblC",
        "outputId": "46ba9676-67d4-42b9-a2f8-80db64ce639b"
      },
      "outputs": [
        {
          "name": "stdout",
          "output_type": "stream",
          "text": [
            "the dimensions are 12*13*15\n"
          ]
        }
      ],
      "source": [
        "length, width, height = 12, 13, 15\n",
        "print('the dimensions are {}*{}*{}'.format(length,width,height))"
      ]
    },
    {
      "cell_type": "markdown",
      "source": [
        "# Tuple Methods in Python\n",
        "\n",
        "Tuples in Python are **immutable** sequences, and thus have fewer methods compared to lists. However, there are two key methods that can be used with tuples: `count()` and `index()`.\n",
        "\n",
        "#### 1. **indexing**\n",
        "\n",
        "In Python, **indexing** is used to access individual elements of a tuple. Tuples are ordered, so each element has a position (or index), starting from **0** for the first element.\n",
        "\n",
        "###### Syntax:\n",
        "\n",
        "tuple[index]\n",
        "\n",
        "\n",
        "-----------------------------\n",
        "\n",
        "#### 2.**count()**\n",
        "\n",
        "The `count()` method is used to count how many times a specific element appears in the tuple.\n",
        "\n",
        "### Syntax:\n",
        "```python\n",
        "tuple[index]\n",
        "tuple.count(value)\n"
      ],
      "metadata": {
        "id": "_P8wXoQk7DOA"
      }
    },
    {
      "cell_type": "code",
      "execution_count": null,
      "metadata": {
        "id": "ySZGuR1ojblD",
        "outputId": "232772a0-8864-454e-88f8-3d3054e6b853"
      },
      "outputs": [
        {
          "name": "stdout",
          "output_type": "stream",
          "text": [
            "3\n",
            "9\n"
          ]
        }
      ],
      "source": [
        "tpl = (1,2,3,4,'hello','salam',12.3,4,4,'hello',5,4)\n",
        "print(tpl.index(4))\n",
        "print(tpl.index('hello',5,10))"
      ]
    },
    {
      "cell_type": "code",
      "execution_count": null,
      "metadata": {
        "id": "dczv-QmEjblD",
        "outputId": "ba04a11f-7a72-4714-d82f-5bb9509ddd8a"
      },
      "outputs": [
        {
          "data": {
            "text/plain": [
              "4"
            ]
          },
          "execution_count": 42,
          "metadata": {},
          "output_type": "execute_result"
        }
      ],
      "source": [
        "tpl.count(4)"
      ]
    },
    {
      "cell_type": "code",
      "execution_count": null,
      "metadata": {
        "id": "mytRgEy2jblD",
        "outputId": "7e70dc9e-0b37-49af-dfd0-cf7a71d33deb"
      },
      "outputs": [
        {
          "name": "stdout",
          "output_type": "stream",
          "text": [
            "2\n"
          ]
        }
      ],
      "source": [
        "tpl2 = ('python', 1, 2, 3, 4, 'python')\n",
        "tp = tpl2.count('python')\n",
        "print(tp)"
      ]
    },
    {
      "cell_type": "code",
      "execution_count": null,
      "metadata": {
        "id": "PF2CIXzvjblD",
        "outputId": "5f62623a-9dc9-4168-9ee5-689f77ea431a"
      },
      "outputs": [
        {
          "name": "stdout",
          "output_type": "stream",
          "text": [
            "A E I O U "
          ]
        }
      ],
      "source": [
        "vowels = ('a','e','i','o','u')\n",
        "for i in vowels:\n",
        "    print(i.upper(), end=' ')"
      ]
    },
    {
      "cell_type": "code",
      "execution_count": null,
      "metadata": {
        "id": "Ze4hUoXWjblD",
        "outputId": "03814d0c-cbbc-4e57-f10b-9e28227c760a"
      },
      "outputs": [
        {
          "name": "stdout",
          "output_type": "stream",
          "text": [
            "False\n",
            "True\n"
          ]
        }
      ],
      "source": [
        "print('o'not in vowels)\n",
        "print('f' not in vowels)"
      ]
    }
  ],
  "metadata": {
    "kernelspec": {
      "display_name": "Python 3 (ipykernel)",
      "language": "python",
      "name": "python3"
    },
    "language_info": {
      "codemirror_mode": {
        "name": "ipython",
        "version": 3
      },
      "file_extension": ".py",
      "mimetype": "text/x-python",
      "name": "python",
      "nbconvert_exporter": "python",
      "pygments_lexer": "ipython3",
      "version": "3.11.0"
    },
    "colab": {
      "provenance": [],
      "include_colab_link": true
    }
  },
  "nbformat": 4,
  "nbformat_minor": 0
}