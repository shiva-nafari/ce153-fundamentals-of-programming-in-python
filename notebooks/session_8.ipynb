{
  "cells": [
    {
      "cell_type": "markdown",
      "metadata": {
        "id": "view-in-github",
        "colab_type": "text"
      },
      "source": [
        "<a href=\"https://colab.research.google.com/github/shiva-nafari/ce153-fundamentals-of-programming-in-python/blob/main/notebooks/session_8.ipynb\" target=\"_parent\"><img src=\"https://colab.research.google.com/assets/colab-badge.svg\" alt=\"Open In Colab\"/></a>"
      ]
    },
    {
      "cell_type": "markdown",
      "source": [
        "##Fundamentals of Programming in Python\n",
        "##Session 8\n",
        "\n"
      ],
      "metadata": {
        "id": "Ki92PJPF9BDR"
      }
    },
    {
      "cell_type": "markdown",
      "source": [
        "# Sets in Python\n",
        "\n",
        "A **set** is an unordered collection of unique items. In Python, sets are useful when you need to store multiple items without duplicates, and they support a variety of mathematical operations like union, intersection, difference, and symmetric difference.\n",
        "\n",
        "## Features of Sets:\n",
        "1. **Unordered** – Sets do not maintain any specific order of elements.\n",
        "2. **Unique Elements** – Sets cannot contain duplicate values. If you try to add a duplicate element, it will be ignored.\n",
        "3. **Mutable** – Sets are **mutable**, meaning you can add or remove elements after the set is created.\n",
        "4. **Supports Membership Testing** – You can check if an element is in a set using the `in` keyword.\n",
        "5. **Supports Set Operations** – Sets support mathematical operations like union, intersection, and difference.\n",
        "\n",
        "## Creating a Set:\n",
        "A set can be created by placing elements inside curly braces `{}` or using the `set()` constructor.\n",
        "\n",
        "### Example:\n",
        "```python\n",
        "my_set = {1, 2, 3, 4}\n",
        "print(my_set)  # Output: {1, 2, 3, 4}\n"
      ],
      "metadata": {
        "id": "WdZa2yxQ9Il3"
      }
    },
    {
      "cell_type": "code",
      "execution_count": null,
      "metadata": {
        "id": "3mNcQBcb88jT",
        "outputId": "77ae4cd7-393b-4551-edd1-6206c8ad538c"
      },
      "outputs": [
        {
          "name": "stdout",
          "output_type": "stream",
          "text": [
            "{'salam', True, 20, 23.4, 13}\n",
            "5\n"
          ]
        }
      ],
      "source": [
        "#set\n",
        "#unordered\n",
        "#membership\n",
        "#mutable\n",
        "#unique\n",
        "st = {20, 20, 20, 13, 'salam', 'salam', 23.4, True}\n",
        "print(st)\n",
        "print(len(st))"
      ]
    },
    {
      "cell_type": "code",
      "execution_count": null,
      "metadata": {
        "id": "VrsJgTTj88jV",
        "outputId": "317a243a-ee9b-4772-ddf6-de7e21e42dd8"
      },
      "outputs": [
        {
          "name": "stdout",
          "output_type": "stream",
          "text": [
            "<class 'set'>\n",
            "True\n",
            "True\n"
          ]
        }
      ],
      "source": [
        "print(type(st))\n",
        "print(20 in st)\n",
        "print('hello' not in st)"
      ]
    },
    {
      "cell_type": "markdown",
      "source": [
        "# Casting and the `bool` Type in Python\n",
        "\n",
        "## Casting in Python\n",
        "**Casting** refers to the conversion of one data type into another. In Python, you can cast values to different types using built-in functions like `int()`, `float()`, `str()`, and `bool()`.\n",
        "\n",
        "### Common Casting Functions:\n",
        "1. **`int()`** – Converts a value into an integer.\n",
        "   - Example:\n",
        "     ```python\n",
        "     x = 5.7\n",
        "     y = int(x)\n",
        "     print(y)  # Output: 5\n",
        "     ```\n",
        "\n",
        "2. **`float()`** – Converts a value into a floating-point number.\n",
        "   - Example:\n",
        "     ```python\n",
        "     x = 5\n",
        "     y = float(x)\n",
        "     print(y)  # Output: 5.0\n",
        "     ```\n",
        "\n",
        "3. **`str()`** – Converts a value into a string.\n",
        "   - Example:\n",
        "     ```python\n",
        "     x = 123\n",
        "     y = str(x)\n",
        "     print(y)  # Output: '123'\n",
        "     ```\n",
        "\n",
        "4. **`bool()`** – Converts a value into a Boolean value (`True` or `False`).\n",
        "\n",
        "### Example of Casting:\n",
        "```python\n",
        "x = 10\n",
        "y = float(x)  # Converts int to float\n",
        "z = str(x)    # Converts int to string\n",
        "print(type(y))  # Output: <class 'float'>\n",
        "print(type(z))  # Output: <class 'str'>\n"
      ],
      "metadata": {
        "id": "0nR2IYG3AEPW"
      }
    },
    {
      "cell_type": "code",
      "execution_count": null,
      "metadata": {
        "id": "nS9MtGHS88jW",
        "outputId": "16a1ab4c-96e1-4e36-c2bd-b8a89a913cce"
      },
      "outputs": [
        {
          "name": "stdout",
          "output_type": "stream",
          "text": [
            "True\n",
            "False\n",
            "True\n",
            "True\n",
            "False\n"
          ]
        }
      ],
      "source": [
        "#casting\n",
        "print(bool(6))\n",
        "print(bool(0))\n",
        "print(bool(23.7))\n",
        "print(bool(-2))\n",
        "print(bool(''))"
      ]
    },
    {
      "cell_type": "markdown",
      "source": [
        "# Set Methods in Python\n",
        "\n",
        "A **set** in Python provides several built-in methods for performing operations such as adding, removing, and combining elements.\n",
        "\n",
        "## `add()`\n",
        "- **Description:** Adds a single element to the set.\n",
        "- **Example:**\n",
        "  ```python\n",
        "  s = {1, 2, 3}\n",
        "  s.add(4)\n",
        "  print(s)  # Output: {1, 2, 3, 4}"
      ],
      "metadata": {
        "id": "2FeVAJ-lAwn4"
      }
    },
    {
      "cell_type": "markdown",
      "source": [
        "##`update()`\n",
        "\n",
        "The `update()` method is used to add multiple elements from an iterable (such as a list, tuple, or another set) to an existing set. This method modifies the set in place, ensuring that only unique elements are retained.\n",
        "\n",
        "## Syntax:\n",
        "```python\n",
        "set.update(iterable)\n"
      ],
      "metadata": {
        "id": "G4lu45brBLfK"
      }
    },
    {
      "cell_type": "code",
      "execution_count": null,
      "metadata": {
        "id": "816ouOa988jW",
        "outputId": "c284e4b7-5cf6-411c-e05a-c53755e2c735"
      },
      "outputs": [
        {
          "name": "stdout",
          "output_type": "stream",
          "text": [
            "{True, 2, 3, 'sara', 13, 'salam', 20, 'hediyeh', 23.4}\n",
            "{True, 2, 3, 'sara', 13, 'salam', 20, 'hediyeh', 23.4, '1'}\n"
          ]
        }
      ],
      "source": [
        "st.add('hediyeh')\n",
        "#in set, using 'add' instead of append\n",
        "print(st)\n",
        "st.update([1, 2, 3, 'sara','1'])\n",
        "print(st)"
      ]
    },
    {
      "cell_type": "markdown",
      "source": [
        "## `pop()`\n",
        "\n",
        "The `pop()` method in Python removes and returns an **arbitrary element** from a set. Because sets are unordered, you cannot predict which element will be removed. If the set is empty, calling `pop()` will raise a `KeyError`.\n",
        "\n",
        "## Syntax:\n",
        "```python\n",
        "set.pop()\n"
      ],
      "metadata": {
        "id": "1Af1NL-6PCa6"
      }
    },
    {
      "cell_type": "code",
      "execution_count": null,
      "metadata": {
        "id": "AI0pgY1t88jW",
        "outputId": "0ca3a1dd-b7ef-4705-adad-5626b3a5b74d"
      },
      "outputs": [
        {
          "name": "stdout",
          "output_type": "stream",
          "text": [
            "True\n",
            "{2, 3, 'sara', 13, 'salam', 20, 'hediyeh', 23.4, '1'}\n"
          ]
        }
      ],
      "source": [
        "z = st.pop()\n",
        "print(z)\n",
        "print(st)"
      ]
    },
    {
      "cell_type": "markdown",
      "source": [
        "##`remove()`\n",
        "\n",
        "The `remove()` method is used to remove a specified element from a set. If the element is not found, it raises a `KeyError`.\n",
        "\n",
        "## Syntax:\n",
        "```python\n",
        "set.remove(element)\n"
      ],
      "metadata": {
        "id": "ZgH8caioPiZ1"
      }
    },
    {
      "cell_type": "code",
      "execution_count": null,
      "metadata": {
        "id": "NWF1_3nB88jX",
        "outputId": "e3cdf0e4-d0b7-4ce8-8a8a-c1d041279a55"
      },
      "outputs": [
        {
          "name": "stdout",
          "output_type": "stream",
          "text": [
            "{2, 3, 'sara', 'salam', 20, 'hediyeh', 23.4, '1'}\n"
          ]
        }
      ],
      "source": [
        "st.remove(13)\n",
        "print(st)"
      ]
    },
    {
      "cell_type": "markdown",
      "source": [
        "# `union()`\n",
        "\n",
        "The `union()` method returns a new set that contains all the unique elements from the original set and all provided sets or iterables. It does not modify any of the original sets.\n",
        "\n",
        "## Syntax:\n",
        "```python\n",
        "set.union(*others)\n"
      ],
      "metadata": {
        "id": "dlN0b0eEP0SK"
      }
    },
    {
      "cell_type": "code",
      "execution_count": null,
      "metadata": {
        "id": "zjkY9CQE88jX",
        "outputId": "55fb644e-fc6d-4860-c70e-e4df7abbad10"
      },
      "outputs": [
        {
          "name": "stdout",
          "output_type": "stream",
          "text": [
            "{True, '4', 2, 5, '3'}\n"
          ]
        }
      ],
      "source": [
        "#methods\n",
        "#union(), intersection(), difference(), issubset(), issuperset()\n",
        "s1 = {1, 2, 5, '3', '4'}\n",
        "s2 = {True, '4', 5}\n",
        "s3 = s2.union(s1)\n",
        "print(s3)"
      ]
    },
    {
      "cell_type": "markdown",
      "source": [
        "## `intersection()`\n",
        "\n",
        "The `intersection()` method returns a new set containing only the elements that are common to the original set and all provided sets or iterables. It does not modify any of the original sets.\n",
        "\n",
        "## Syntax:\n",
        "```python\n",
        "set.intersection(*others)\n"
      ],
      "metadata": {
        "id": "zEvUV_TsQWmL"
      }
    },
    {
      "cell_type": "code",
      "execution_count": null,
      "metadata": {
        "id": "ovRUAfAz88jX",
        "outputId": "9fa7d325-f72d-4bd5-e5ba-3d6633b2d8fc"
      },
      "outputs": [
        {
          "name": "stdout",
          "output_type": "stream",
          "text": [
            "{True, '4', 5}\n"
          ]
        }
      ],
      "source": [
        "s4 = s1.intersection(s2)\n",
        "print(s4)"
      ]
    },
    {
      "cell_type": "markdown",
      "source": [
        "## `issubset()`\n",
        "\n",
        "The `issubset()` method checks whether every element of one set is contained in another set. It returns `True` if the set is a subset of the given set, and `False` otherwise.\n",
        "\n",
        "## Syntax:\n",
        "```python\n",
        "set.issubset(other)\n"
      ],
      "metadata": {
        "id": "bUcsSctTQoPR"
      }
    },
    {
      "cell_type": "code",
      "execution_count": null,
      "metadata": {
        "id": "MqGwvsmR88jX",
        "outputId": "4b35d53c-c465-4e80-f75a-248ef2f053da"
      },
      "outputs": [
        {
          "data": {
            "text/plain": [
              "False"
            ]
          },
          "execution_count": 19,
          "metadata": {},
          "output_type": "execute_result"
        }
      ],
      "source": [
        "s5 = s1.issubset(s2)\n",
        "s5"
      ]
    },
    {
      "cell_type": "markdown",
      "source": [
        "## `issuperset()`\n",
        "\n",
        "The `issuperset()` method checks whether a set contains all elements of another set. It returns `True` if the set is a superset of the given set, meaning it has every element of that set, and `False` otherwise.\n",
        "\n",
        "## Syntax:\n",
        "```python\n",
        "set.issuperset(other)\n"
      ],
      "metadata": {
        "id": "T7Yy6EcaQxIQ"
      }
    },
    {
      "cell_type": "code",
      "execution_count": null,
      "metadata": {
        "id": "edAJyXLR88jX",
        "outputId": "e57a5938-f848-46f5-d984-8bf7606cc705"
      },
      "outputs": [
        {
          "name": "stdout",
          "output_type": "stream",
          "text": [
            "True\n"
          ]
        }
      ],
      "source": [
        "m = s1.issuperset(s2)\n",
        "print(m)"
      ]
    },
    {
      "cell_type": "code",
      "execution_count": null,
      "metadata": {
        "id": "t727Tt3S88jY",
        "outputId": "33b56513-7f53-4ed2-a778-6f66fc280fc9"
      },
      "outputs": [
        {
          "name": "stdout",
          "output_type": "stream",
          "text": [
            "{1, 2, 3, 4, 5, 6}\n",
            "('p', 'y', 't', 'h', 'o', 'n') <class 'tuple'>\n",
            "{'t', 'p', 'y', 'n', 'o', 'h'} <class 'set'>\n",
            "<class 'set'>\n"
          ]
        }
      ],
      "source": [
        "st1 = set([1,1,1,2,3,4,3,2,5,6,6,6])\n",
        "st2 = set()\n",
        "tpl = tuple('python')\n",
        "st4 = set('pythonn')\n",
        "st3 = {1,2,3,4}\n",
        "#st1.update(st2)\n",
        "print(st1)\n",
        "#print(st4)\n",
        "#print(tpl)\n",
        "#print(type(st2))\n",
        "#print(len(st2))\n",
        "print(tpl, type(tpl))\n",
        "print(st4, type(st4))\n",
        "print(type(st3))"
      ]
    },
    {
      "cell_type": "code",
      "execution_count": null,
      "metadata": {
        "id": "T-k2LNfp88jY",
        "outputId": "05d250b4-cd05-4c38-f505-0b218a82b190"
      },
      "outputs": [
        {
          "data": {
            "text/plain": [
              "6"
            ]
          },
          "execution_count": 31,
          "metadata": {},
          "output_type": "execute_result"
        }
      ],
      "source": [
        "numbers = (1, 2, 3, 4, 5, 5)\n",
        "len(numbers)"
      ]
    },
    {
      "cell_type": "code",
      "execution_count": null,
      "metadata": {
        "id": "wd3RimDt88jY",
        "outputId": "6a4f7433-8414-41b1-ca2d-82edb2cf88ca"
      },
      "outputs": [
        {
          "name": "stdout",
          "output_type": "stream",
          "text": [
            "(3, 4, 5)\n"
          ]
        },
        {
          "ename": "TypeError",
          "evalue": "'tuple' object does not support item assignment",
          "output_type": "error",
          "traceback": [
            "\u001b[0;31m---------------------------------------------------------------------------\u001b[0m",
            "\u001b[0;31mTypeError\u001b[0m                                 Traceback (most recent call last)",
            "Cell \u001b[0;32mIn[32], line 2\u001b[0m\n\u001b[1;32m      1\u001b[0m \u001b[38;5;28mprint\u001b[39m(numbers[\u001b[38;5;241m2\u001b[39m:\u001b[38;5;241m5\u001b[39m])\n\u001b[0;32m----> 2\u001b[0m \u001b[43mnumbers\u001b[49m\u001b[43m[\u001b[49m\u001b[38;5;241;43m0\u001b[39;49m\u001b[43m]\u001b[49m \u001b[38;5;241m=\u001b[39m \u001b[38;5;124m'\u001b[39m\u001b[38;5;124msalam\u001b[39m\u001b[38;5;124m'\u001b[39m\n\u001b[1;32m      3\u001b[0m numbers\n",
            "\u001b[0;31mTypeError\u001b[0m: 'tuple' object does not support item assignment"
          ]
        }
      ],
      "source": [
        "print(numbers[2:5])\n",
        "numbers[0] = 'salam'\n",
        "numbers"
      ]
    },
    {
      "cell_type": "code",
      "execution_count": null,
      "metadata": {
        "id": "_53A2iFk88jY",
        "outputId": "0b5c0ac9-41f8-4f68-be56-ad6689d69f46"
      },
      "outputs": [
        {
          "name": "stdout",
          "output_type": "stream",
          "text": [
            "Alu El Il Ol Ul "
          ]
        }
      ],
      "source": [
        "#tuples are iterable\n",
        "vowels = ('ALU','el','il','ol','ul')\n",
        "for vowel in vowels:\n",
        "    print(vowel.capitalize(), end = ' ')"
      ]
    },
    {
      "cell_type": "code",
      "execution_count": null,
      "metadata": {
        "id": "8la3yzaf88jY",
        "outputId": "a5ae71e9-bac1-4cd0-ce48-6f8f6f905474"
      },
      "outputs": [
        {
          "data": {
            "text/plain": [
              "dict"
            ]
          },
          "execution_count": 37,
          "metadata": {},
          "output_type": "execute_result"
        }
      ],
      "source": [
        "#list, dictionary (mutable, ordered)\n",
        "#string, tuple (immutable, ordered)\n",
        "#set(unordered, mutable)\n",
        "dct = {}\n",
        "dct1 = dict()\n",
        "type(dct)"
      ]
    },
    {
      "cell_type": "code",
      "execution_count": null,
      "metadata": {
        "id": "EnoNHoAC88jY",
        "outputId": "88f9540c-5f27-4472-c5ee-b8eec0c4bb38"
      },
      "outputs": [
        {
          "name": "stdout",
          "output_type": "stream",
          "text": [
            "{'one': 'yek', 'two': 2}\n",
            "2\n",
            "{'apple': 'sib', 'orange': 'narenji', 'watermelon': 'hendooneh'}\n",
            "3\n"
          ]
        }
      ],
      "source": [
        "#dictionary --> {'key':'value'}\n",
        "#key are unique !\n",
        "dc = {'one': 1, 'two': 2, 'one':'yek'}\n",
        "dct2 = {'apple':'sib', 'orange':'porteghal', 'watermelon':'hendooneh', 'orange':'narenji'}\n",
        "print(dc)\n",
        "print(len(dc))\n",
        "type(dc)\n",
        "print(dct2)\n",
        "print(len(dct2))"
      ]
    },
    {
      "cell_type": "code",
      "execution_count": null,
      "metadata": {
        "id": "AIYRSG0i88jZ",
        "outputId": "69a3a75b-f7d2-4f70-9099-7ae58b152bc2"
      },
      "outputs": [
        {
          "name": "stdout",
          "output_type": "stream",
          "text": [
            "sib\n"
          ]
        }
      ],
      "source": [
        "#access to values\n",
        "print(dct2['apple'])"
      ]
    },
    {
      "cell_type": "code",
      "execution_count": null,
      "metadata": {
        "id": "mCmU7Mdw88jZ",
        "outputId": "e92b9cb0-e8ab-4607-f3b2-3066e7c6d29e"
      },
      "outputs": [
        {
          "name": "stdout",
          "output_type": "stream",
          "text": [
            "{'apple': 'ghermez', 'orange': 'narenji', 'watermelon': 'hendooneh'}\n"
          ]
        }
      ],
      "source": [
        "dct2['apple'] = 'ghermez'\n",
        "print(dct2)"
      ]
    },
    {
      "cell_type": "code",
      "execution_count": null,
      "metadata": {
        "id": "YQoIHGXR88jZ",
        "outputId": "29429603-6ab4-4a50-9e22-430b5e6b1d18"
      },
      "outputs": [
        {
          "name": "stdout",
          "output_type": "stream",
          "text": [
            "{'apple': 'ghermez', 'watermelon': 'hendooneh'}\n"
          ]
        }
      ],
      "source": [
        "dct2.pop('orange')\n",
        "print(dct2)\n"
      ]
    },
    {
      "cell_type": "code",
      "execution_count": null,
      "metadata": {
        "id": "i4IY42Ha88jZ",
        "outputId": "2fb025d8-b608-4185-b2dc-9b0b103772d3"
      },
      "outputs": [
        {
          "ename": "KeyError",
          "evalue": "'cherry'",
          "output_type": "error",
          "traceback": [
            "\u001b[0;31m---------------------------------------------------------------------------\u001b[0m",
            "\u001b[0;31mKeyError\u001b[0m                                  Traceback (most recent call last)",
            "Cell \u001b[0;32mIn[41], line 1\u001b[0m\n\u001b[0;32m----> 1\u001b[0m x \u001b[38;5;241m=\u001b[39m \u001b[43mdct2\u001b[49m\u001b[43m[\u001b[49m\u001b[38;5;124;43m'\u001b[39;49m\u001b[38;5;124;43mcherry\u001b[39;49m\u001b[38;5;124;43m'\u001b[39;49m\u001b[43m]\u001b[49m\n\u001b[1;32m      2\u001b[0m \u001b[38;5;28mprint\u001b[39m(x)\n",
            "\u001b[0;31mKeyError\u001b[0m: 'cherry'"
          ]
        }
      ],
      "source": [
        "x = dct2['cherry']\n",
        "print(x)"
      ]
    },
    {
      "cell_type": "code",
      "execution_count": null,
      "metadata": {
        "id": "f1XZbKPh88jZ",
        "outputId": "29bd4623-a7da-4ace-f0a1-e75d4b6c4b89"
      },
      "outputs": [
        {
          "name": "stdout",
          "output_type": "stream",
          "text": [
            "None\n",
            "nadarim!!\n"
          ]
        }
      ],
      "source": [
        "print(dct2.get('orange'))\n",
        "print(dct2.get('tomato','nadarim!!'))"
      ]
    },
    {
      "cell_type": "code",
      "execution_count": null,
      "metadata": {
        "id": "s7N_j-QY88jZ",
        "outputId": "edba631c-0a58-4168-ecb0-9a57dd350b7f"
      },
      "outputs": [
        {
          "name": "stdout",
          "output_type": "stream",
          "text": [
            "False\n"
          ]
        },
        {
          "data": {
            "text/plain": [
              "{'apple': 'ghermez',\n",
              " 'watermelon': 'hendooneh',\n",
              " 'melon': 'talebi',\n",
              " 'tomato': 'ghermez'}"
            ]
          },
          "execution_count": 40,
          "metadata": {},
          "output_type": "execute_result"
        }
      ],
      "source": [
        "dct2['melon'] = 'talebi'\n",
        "#print('melon' not in dct2)\n",
        "#dct2['tomato'] = 'ghermez'\n",
        "#dct2"
      ]
    },
    {
      "cell_type": "code",
      "execution_count": null,
      "metadata": {
        "id": "Pr-gOUnT88jZ",
        "outputId": "23ac5980-0fe5-4856-f51b-08d9d2a5942b"
      },
      "outputs": [
        {
          "name": "stdout",
          "output_type": "stream",
          "text": [
            "{'apple': 'ghermez', 'watermelon': 'hendooneh', 'melon': 'talebi', 'tomato': 'ghermez', 'olive': 'zeytoon', 'five': 5, 'two': 2.0}\n"
          ]
        }
      ],
      "source": [
        "dct2.update({'olive':'zeytoon','five':5,'two':2.0})\n",
        "print(dct2)"
      ]
    },
    {
      "cell_type": "code",
      "execution_count": null,
      "metadata": {
        "id": "Zye0Xupp88jZ"
      },
      "outputs": [],
      "source": []
    }
  ],
  "metadata": {
    "kernelspec": {
      "display_name": "Python 3 (ipykernel)",
      "language": "python",
      "name": "python3"
    },
    "language_info": {
      "codemirror_mode": {
        "name": "ipython",
        "version": 3
      },
      "file_extension": ".py",
      "mimetype": "text/x-python",
      "name": "python",
      "nbconvert_exporter": "python",
      "pygments_lexer": "ipython3",
      "version": "3.11.0"
    },
    "colab": {
      "provenance": [],
      "include_colab_link": true
    }
  },
  "nbformat": 4,
  "nbformat_minor": 0
}