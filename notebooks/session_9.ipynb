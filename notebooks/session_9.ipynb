{
  "cells": [
    {
      "cell_type": "markdown",
      "metadata": {
        "id": "view-in-github",
        "colab_type": "text"
      },
      "source": [
        "<a href=\"https://colab.research.google.com/github/shiva-nafari/ce153-fundamentals-of-programming-in-python/blob/main/notebooks/session_9.ipynb\" target=\"_parent\"><img src=\"https://colab.research.google.com/assets/colab-badge.svg\" alt=\"Open In Colab\"/></a>"
      ]
    },
    {
      "cell_type": "markdown",
      "source": [
        "##Fundamentals of Programming in Python\n",
        "##Session 9"
      ],
      "metadata": {
        "id": "WZetw4gEdz7m"
      }
    },
    {
      "cell_type": "code",
      "execution_count": null,
      "metadata": {
        "id": "KdJYPe6SdihA",
        "outputId": "0a3ff4c3-12a2-4452-d097-479de35d907e"
      },
      "outputs": [
        {
          "name": "stdout",
          "output_type": "stream",
          "text": [
            "0 11\n",
            "1 12\n",
            "2 12\n",
            "3 13\n",
            "4 salam\n",
            "5 True\n"
          ]
        }
      ],
      "source": [
        "#list\n",
        "lst = [11,12,12,13,'salam',True]\n",
        "for i in range(len(lst)):\n",
        "    print(i,lst[i])\n"
      ]
    },
    {
      "cell_type": "markdown",
      "source": [
        "# `enumerate()` Function\n",
        "\n",
        "The `enumerate()` function is a built-in Python function that allows you to iterate over a list (or any iterable) while keeping track of the index of the current element. It returns an iterator that produces pairs of an index and the corresponding element, making it easy to work with both the position and the value during iteration.\n",
        "\n",
        "## Syntax:\n",
        "```python\n",
        "enumerate(iterable, start=0)\n"
      ],
      "metadata": {
        "id": "854QYicPgPgz"
      }
    },
    {
      "cell_type": "code",
      "execution_count": null,
      "metadata": {
        "scrolled": true,
        "id": "Nj4dHzbhdihB",
        "outputId": "ab259eb4-c4e7-4364-a388-afc505d5601d"
      },
      "outputs": [
        {
          "name": "stdout",
          "output_type": "stream",
          "text": [
            "0 11\n",
            "1 12\n",
            "2 12\n",
            "3 13\n",
            "4 salam\n",
            "5 True\n"
          ]
        }
      ],
      "source": [
        "for i, item in enumerate(lst):\n",
        "    print(i,item)"
      ]
    },
    {
      "cell_type": "markdown",
      "source": [
        "# Dictionaries in Python\n",
        "\n",
        "A **dictionary** is an unordered collection of data values that stores data in key-value pairs. Dictionaries are mutable, meaning you can change their content after they are created, and they are indexed by keys rather than by numerical indices like lists.\n",
        "\n",
        "## Key Features of Dictionaries\n",
        "\n",
        "- **Key-Value Pairs:**  \n",
        "  Data is stored in pairs where each unique key is associated with a value.  \n",
        "  Example: `\"name\": \"Sara\"`\n",
        "\n",
        "- **Unordered:**  \n",
        "  The order of key-value pairs is not guaranteed (although insertion order is preserved in Python 3.7+).\n",
        "\n",
        "- **Mutable:**  \n",
        "  You can add, remove, or modify key-value pairs after the dictionary is created.\n",
        "\n",
        "- **Dynamic:**  \n",
        "  Dictionaries can grow or shrink in size as needed.\n",
        "\n",
        "- **Fast Lookups:**  \n",
        "  Accessing values by their keys is generally very fast.\n",
        "\n",
        "## Creating a Dictionary\n",
        "\n",
        "You can create a dictionary using curly braces `{}` or the `dict()` constructor.\n"
      ],
      "metadata": {
        "id": "hQqOsKS-f2BJ"
      }
    },
    {
      "cell_type": "code",
      "execution_count": null,
      "metadata": {
        "id": "BIBDMPTzdihC",
        "outputId": "61bfcc04-1d20-49ad-ccb0-ec89235fda4a"
      },
      "outputs": [
        {
          "name": "stdout",
          "output_type": "stream",
          "text": [
            "2\n",
            "{'orange': 'porteghal', 'apple': 'sib'}\n",
            "orange porteghal\n",
            "apple sib\n"
          ]
        }
      ],
      "source": [
        "#dictionary\n",
        "d = {'orange':'narenji','apple':'sib', 'orange':'porteghal'}\n",
        "print(len(d))\n",
        "print(d)\n",
        "for key in d:\n",
        "    print(key, d[key])"
      ]
    },
    {
      "cell_type": "code",
      "execution_count": null,
      "metadata": {
        "id": "HpDwUknBdihC",
        "outputId": "7cc56819-f2d7-4e77-976b-8a29f076b4fd"
      },
      "outputs": [
        {
          "name": "stdout",
          "output_type": "stream",
          "text": [
            "apple sib\n",
            "orange porteghal\n"
          ]
        }
      ],
      "source": [
        "for key, value in d.items():\n",
        "    print(key, value)"
      ]
    },
    {
      "cell_type": "code",
      "execution_count": null,
      "metadata": {
        "id": "l9DFQXW_dihC",
        "outputId": "538b9431-2fc3-4811-98b6-85c3d4023584"
      },
      "outputs": [
        {
          "name": "stdout",
          "output_type": "stream",
          "text": [
            "porteghal\n",
            "sib\n"
          ]
        }
      ],
      "source": [
        "st = {'sib', 'porteghal'}\n",
        "for i in st:\n",
        "    print(i)"
      ]
    },
    {
      "cell_type": "code",
      "execution_count": null,
      "metadata": {
        "id": "x65ODqkMdihC",
        "outputId": "9e54b911-9da9-4438-8ce8-5db388d7b9f9"
      },
      "outputs": [
        {
          "name": "stdout",
          "output_type": "stream",
          "text": [
            "1\n",
            "2\n",
            "3\n",
            "salam\n",
            "True\n"
          ]
        }
      ],
      "source": [
        "tpl = (1, 2, 3, 'salam', True)\n",
        "for i in tpl:\n",
        "    print(i)"
      ]
    },
    {
      "cell_type": "code",
      "execution_count": null,
      "metadata": {
        "id": "kdPVB2eudihC",
        "outputId": "bdb1d34c-8954-4cf8-d708-488ae3b2e93d"
      },
      "outputs": [
        {
          "name": "stdout",
          "output_type": "stream",
          "text": [
            "0 1\n",
            "1 2\n",
            "2 3\n",
            "3 salam\n",
            "4 True\n"
          ]
        }
      ],
      "source": [
        "for i in range(len(tpl)):\n",
        "    print(i, tpl[i])"
      ]
    },
    {
      "cell_type": "code",
      "execution_count": null,
      "metadata": {
        "id": "SRLTI76TdihD",
        "outputId": "cbf06169-5185-4e37-bd95-5586e12e5bbb"
      },
      "outputs": [
        {
          "name": "stdout",
          "output_type": "stream",
          "text": [
            "0 1\n",
            "1 2\n",
            "2 3\n",
            "3 salam\n",
            "4 True\n"
          ]
        }
      ],
      "source": [
        "for index, item in enumerate(tpl):\n",
        "    print(index, item)"
      ]
    },
    {
      "cell_type": "markdown",
      "source": [
        "# Functions in Python\n",
        "\n",
        "A **function** is a block of organized, reusable code that performs a specific task. Functions allow you to group a set of statements together to perform a particular action, making your code more modular, reusable, and easier to maintain.\n",
        "\n",
        "## Defining a Function\n",
        "\n",
        "Functions are defined using the `def` keyword, followed by the function name, a pair of parentheses (which may include parameters), and a colon. The body of the function is indented and typically contains a `return` statement to output a value.\n",
        "\n",
        "### Syntax:\n",
        "```python\n",
        "def function_name(parameters):\n",
        "    \"\"\"\n",
        "    Optional docstring: A brief description of what the function does.\n",
        "    \"\"\"\n",
        "    # Function body (code)\n",
        "    return result  # Optional, if the function returns a value\n"
      ],
      "metadata": {
        "id": "kUZLZfdmeOQ8"
      }
    },
    {
      "cell_type": "markdown",
      "source": [
        "# Key Features of Functions\n",
        "\n",
        "- **Modularity:** Break your code into small, manageable pieces.\n",
        "- **Reusability:** Write once and use multiple times throughout your code.\n",
        "- **Parameters and Arguments:** Accept inputs (parameters) that allow the function to perform tasks with different data.\n",
        "- **Return Values:** Use the `return` statement to send a value back to the caller.\n",
        "- **Local Scope:** Variables defined within a function are only accessible within that function.\n",
        "\n",
        "# Benefits of Using Functions\n",
        "\n",
        "- **Organization:** Helps in organizing code logically.\n",
        "- **Maintainability:** Easier to update and debug small pieces of code.\n",
        "- **Abstraction:** Hide complex implementation details behind a simple interface.\n",
        "- **Testing:** Functions can be independently tested for correctness.\n"
      ],
      "metadata": {
        "id": "xtgnJdSMeleu"
      }
    },
    {
      "cell_type": "code",
      "execution_count": null,
      "metadata": {
        "id": "cMAlISiVdihD",
        "outputId": "4019b75c-8e13-4264-8ead-677e9db0464b"
      },
      "outputs": [
        {
          "name": "stdout",
          "output_type": "stream",
          "text": [
            "40\n",
            "18\n"
          ]
        }
      ],
      "source": [
        "#function\n",
        "def multiply(num1, num2):\n",
        "    result = num1 * num2\n",
        "    return result\n",
        "print(multiply(4,10))\n",
        "print(multiply(2, 9))"
      ]
    },
    {
      "cell_type": "code",
      "execution_count": null,
      "metadata": {
        "id": "SveKdJmYdihD",
        "outputId": "2f8a8912-02d9-4542-fa76-a3cab6992627"
      },
      "outputs": [
        {
          "data": {
            "text/plain": [
              "11"
            ]
          },
          "execution_count": 6,
          "metadata": {},
          "output_type": "execute_result"
        }
      ],
      "source": [
        "#define function\n",
        "def add(num1, num2, num3):\n",
        "    return num1 + num2 + num3\n",
        "add(2,4,5)"
      ]
    },
    {
      "cell_type": "code",
      "execution_count": null,
      "metadata": {
        "id": "vjd9q3y_dihD",
        "outputId": "bdf0c98f-c48d-44fd-f1a8-90fc512bb739"
      },
      "outputs": [
        {
          "data": {
            "text/plain": [
              "53"
            ]
          },
          "execution_count": 8,
          "metadata": {},
          "output_type": "execute_result"
        }
      ],
      "source": [
        "add(2,14,37)"
      ]
    },
    {
      "cell_type": "code",
      "execution_count": null,
      "metadata": {
        "id": "Lx86UT_idihD",
        "outputId": "515a23a8-9a2b-4872-9264-9d7fbe6e588d"
      },
      "outputs": [
        {
          "name": "stdout",
          "output_type": "stream",
          "text": [
            "salam\n"
          ]
        }
      ],
      "source": [
        "def chap():\n",
        "     return'salam'\n",
        "x = chap()\n",
        "print(x)\n"
      ]
    },
    {
      "cell_type": "markdown",
      "source": [
        "## Question\n",
        "\n",
        "Write a function called `reverse(s)` that takes a string `s` as input and returns a new string that is the reverse of `s`. Use a for loop to iterate over the characters of the input string and construct the reversed string. Test your function with the following inputs:\n",
        "\n",
        "- `'salam'`\n",
        "- `'goodbye'`\n"
      ],
      "metadata": {
        "id": "5fbQB8iKeznq"
      }
    },
    {
      "cell_type": "code",
      "execution_count": null,
      "metadata": {
        "id": "60KKnhgjdihD",
        "outputId": "0c7656c4-b9ce-4e60-d13c-8cdc3018d691"
      },
      "outputs": [
        {
          "data": {
            "text/plain": [
              "'eybdoog'"
            ]
          },
          "execution_count": 11,
          "metadata": {},
          "output_type": "execute_result"
        }
      ],
      "source": [
        "def reverse(s):\n",
        "    s_rev = str()\n",
        "    for i in s:\n",
        "        s_rev = i + s_rev\n",
        "    return s_rev\n",
        "reverse('salam')\n",
        "reverse('goodbye')"
      ]
    },
    {
      "cell_type": "markdown",
      "source": [
        "## Question\n",
        "\n",
        "Write a function named `cylinder_volume(height, radius)` that calculates and returns the volume of a cylinder using the formula:\n",
        "\n",
        "**Volume = height × π × radius²**\n",
        "\n",
        "For this exercise, use `pi = 3.14` as the value for π. Inside the function, define `pi` as a local variable. After creating the function, test it by calling:\n",
        "\n",
        "```python\n",
        "cylinder_volume(10, 3)\n",
        "\n"
      ],
      "metadata": {
        "id": "dNjyTrX5fEi4"
      }
    },
    {
      "cell_type": "code",
      "execution_count": null,
      "metadata": {
        "id": "BGSM77y6dihE",
        "outputId": "df3c0c97-73e4-4890-8521-9ee8f15976a4"
      },
      "outputs": [
        {
          "data": {
            "text/plain": [
              "282.6"
            ]
          },
          "execution_count": 11,
          "metadata": {},
          "output_type": "execute_result"
        }
      ],
      "source": [
        "def cylinder_volume(height, radius):\n",
        "    pi = 3.14 #local variable\n",
        "    return height * pi * radius ** 2\n",
        "\n",
        "cylinder_volume(10,3)"
      ]
    },
    {
      "cell_type": "code",
      "execution_count": null,
      "metadata": {
        "id": "9A7XpbKOdihE",
        "outputId": "db7eed5a-4c0d-4eb5-a710-53e8047aa3fb"
      },
      "outputs": [
        {
          "name": "stdout",
          "output_type": "stream",
          "text": [
            "1130.4\n",
            "1846.32\n"
          ]
        },
        {
          "data": {
            "text/plain": [
              "1846.32"
            ]
          },
          "execution_count": 14,
          "metadata": {},
          "output_type": "execute_result"
        }
      ],
      "source": [
        "def cylinder_volume(height, radius=6):\n",
        "    pi = 3.14 #local variable\n",
        "    return height * pi * radius ** 2\n",
        "\n",
        "print(cylinder_volume(10))\n",
        "print(cylinder_volume(12,7))\n",
        "cylinder_volume(height=12, radius=7)"
      ]
    },
    {
      "cell_type": "code",
      "execution_count": null,
      "metadata": {
        "id": "8lsWmrn8dihE",
        "outputId": "973d6a8a-8525-4c55-e459-d4fdf0e449a0"
      },
      "outputs": [
        {
          "name": "stdout",
          "output_type": "stream",
          "text": [
            "53\n",
            "None\n"
          ]
        },
        {
          "ename": "TypeError",
          "evalue": "unsupported operand type(s) for *: 'NoneType' and 'int'",
          "output_type": "error",
          "traceback": [
            "\u001b[0;31m---------------------------------------------------------------------------\u001b[0m",
            "\u001b[0;31mTypeError\u001b[0m                                 Traceback (most recent call last)",
            "Cell \u001b[0;32mIn[15], line 6\u001b[0m\n\u001b[1;32m      4\u001b[0m rslt \u001b[38;5;241m=\u001b[39m show_plus_ten(\u001b[38;5;241m43\u001b[39m)\n\u001b[1;32m      5\u001b[0m \u001b[38;5;28mprint\u001b[39m(rslt)\n\u001b[0;32m----> 6\u001b[0m \u001b[38;5;28mprint\u001b[39m(\u001b[43mrslt\u001b[49m\u001b[43m \u001b[49m\u001b[38;5;241;43m*\u001b[39;49m\u001b[43m \u001b[49m\u001b[38;5;241;43m30\u001b[39;49m)\n",
            "\u001b[0;31mTypeError\u001b[0m: unsupported operand type(s) for *: 'NoneType' and 'int'"
          ]
        }
      ],
      "source": [
        "def show_plus_ten(num):\n",
        "    print(num + 10)\n",
        "\n",
        "rslt = show_plus_ten(43)\n",
        "print(rslt)\n",
        "print(rslt * 30)\n",
        ""
      ]
    },
    {
      "cell_type": "code",
      "execution_count": null,
      "metadata": {
        "id": "J6hoDxMXdihE",
        "outputId": "94258981-a7f4-4fca-cbb7-5acb9fcee09b"
      },
      "outputs": [
        {
          "name": "stdout",
          "output_type": "stream",
          "text": [
            "53\n"
          ]
        },
        {
          "data": {
            "text/plain": [
              "2120"
            ]
          },
          "execution_count": 17,
          "metadata": {},
          "output_type": "execute_result"
        }
      ],
      "source": [
        "def show_plus_ten(num):\n",
        "    return(num + 10)\n",
        "\n",
        "rslt = show_plus_ten(43)\n",
        "print(rslt)\n",
        "rslt * 40"
      ]
    },
    {
      "cell_type": "code",
      "execution_count": null,
      "metadata": {
        "id": "DYFOkHjYdihE",
        "outputId": "f5ece2eb-3e69-4126-9222-ef37bb68696e"
      },
      "outputs": [
        {
          "name": "stdout",
          "output_type": "stream",
          "text": [
            "49 week(S) and 5 day(S)\n"
          ]
        }
      ],
      "source": [
        "def timedelta(days):\n",
        "    week = days // 7\n",
        "    day = days % 7\n",
        "    return f'{week} week(S) and {days} day(S)'.format(week, day)\n",
        "print(timedelta(348))"
      ]
    }
  ],
  "metadata": {
    "kernelspec": {
      "display_name": "Python 3 (ipykernel)",
      "language": "python",
      "name": "python3"
    },
    "language_info": {
      "codemirror_mode": {
        "name": "ipython",
        "version": 3
      },
      "file_extension": ".py",
      "mimetype": "text/x-python",
      "name": "python",
      "nbconvert_exporter": "python",
      "pygments_lexer": "ipython3",
      "version": "3.11.0"
    },
    "colab": {
      "provenance": [],
      "include_colab_link": true
    }
  },
  "nbformat": 4,
  "nbformat_minor": 0
}